{
  "nbformat": 4,
  "nbformat_minor": 0,
  "metadata": {
    "colab": {
      "provenance": [],
      "authorship_tag": "ABX9TyMgGB7ZbfXxkuSmJP0Pp/Iw",
      "include_colab_link": true
    },
    "kernelspec": {
      "name": "python3",
      "display_name": "Python 3"
    },
    "language_info": {
      "name": "python"
    }
  },
  "cells": [
    {
      "cell_type": "markdown",
      "metadata": {
        "id": "view-in-github",
        "colab_type": "text"
      },
      "source": [
        "<a href=\"https://colab.research.google.com/github/catalinamagalvan/PySimMIBCI/blob/main/Load_data_ftp.ipynb\" target=\"_parent\"><img src=\"https://colab.research.google.com/assets/colab-badge.svg\" alt=\"Open In Colab\"/></a>"
      ]
    },
    {
      "cell_type": "code",
      "execution_count": 1,
      "metadata": {
        "id": "inCnfTVBoMD9"
      },
      "outputs": [],
      "source": [
        "from scipy.io import loadmat\n",
        "import os\n",
        "import urllib.request"
      ]
    },
    {
      "cell_type": "code",
      "source": [
        "url = 'ftp://parrot.genomics.cn/gigadb/pub/10.5524/100001_101000/100542/session1/s1/sess01_subj01_EEG_MI.mat'\n",
        "urllib.request.urlretrieve(url, 'EEG_MI.mat')\n",
        "data = loadmat('EEG_MI.mat')"
      ],
      "metadata": {
        "id": "xH8X2i5toSB6"
      },
      "execution_count": null,
      "outputs": []
    }
  ]
}