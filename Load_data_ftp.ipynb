{
  "nbformat": 4,
  "nbformat_minor": 0,
  "metadata": {
    "colab": {
      "provenance": [],
      "authorship_tag": "ABX9TyNX96LkNy1WdSDFnpE+Kgso",
      "include_colab_link": true
    },
    "kernelspec": {
      "name": "python3",
      "display_name": "Python 3"
    },
    "language_info": {
      "name": "python"
    }
  },
  "cells": [
    {
      "cell_type": "markdown",
      "metadata": {
        "id": "view-in-github",
        "colab_type": "text"
      },
      "source": [
        "<a href=\"https://colab.research.google.com/github/catalinamagalvan/PySimMIBCI/blob/main/Load_data_ftp.ipynb\" target=\"_parent\"><img src=\"https://colab.research.google.com/assets/colab-badge.svg\" alt=\"Open In Colab\"/></a>"
      ]
    },
    {
      "cell_type": "code",
      "source": [
        "!git clone https://github.com/catalinamagalvan/PySimMIBCI.git"
      ],
      "metadata": {
        "id": "z6RfQO-wg63k",
        "colab": {
          "base_uri": "https://localhost:8080/"
        },
        "outputId": "0ae5886c-8ea9-4591-bd89-4c1582e6daaa"
      },
      "execution_count": 14,
      "outputs": [
        {
          "output_type": "stream",
          "name": "stdout",
          "text": [
            "fatal: destination path 'PySimMIBCI' already exists and is not an empty directory.\n"
          ]
        }
      ]
    },
    {
      "cell_type": "code",
      "source": [
        "!pip install mne\n",
        "!pip install fooof\n",
        "!pip install colorednoise"
      ],
      "metadata": {
        "colab": {
          "base_uri": "https://localhost:8080/"
        },
        "id": "lILvzvcPdpYy",
        "outputId": "5a4552e5-5562-41de-c09d-50ad243cade4"
      },
      "execution_count": 15,
      "outputs": [
        {
          "output_type": "stream",
          "name": "stdout",
          "text": [
            "Looking in indexes: https://pypi.org/simple, https://us-python.pkg.dev/colab-wheels/public/simple/\n",
            "Requirement already satisfied: mne in /usr/local/lib/python3.8/dist-packages (1.3.0)\n",
            "Requirement already satisfied: packaging in /usr/local/lib/python3.8/dist-packages (from mne) (21.3)\n",
            "Requirement already satisfied: matplotlib in /usr/local/lib/python3.8/dist-packages (from mne) (3.2.2)\n",
            "Requirement already satisfied: pooch>=1.5 in /usr/local/lib/python3.8/dist-packages (from mne) (1.6.0)\n",
            "Requirement already satisfied: decorator in /usr/local/lib/python3.8/dist-packages (from mne) (4.4.2)\n",
            "Requirement already satisfied: scipy>=1.1.0 in /usr/local/lib/python3.8/dist-packages (from mne) (1.7.3)\n",
            "Requirement already satisfied: jinja2 in /usr/local/lib/python3.8/dist-packages (from mne) (2.11.3)\n",
            "Requirement already satisfied: tqdm in /usr/local/lib/python3.8/dist-packages (from mne) (4.64.1)\n",
            "Requirement already satisfied: numpy>=1.15.4 in /usr/local/lib/python3.8/dist-packages (from mne) (1.21.6)\n",
            "Requirement already satisfied: requests>=2.19.0 in /usr/local/lib/python3.8/dist-packages (from pooch>=1.5->mne) (2.25.1)\n",
            "Requirement already satisfied: appdirs>=1.3.0 in /usr/local/lib/python3.8/dist-packages (from pooch>=1.5->mne) (1.4.4)\n",
            "Requirement already satisfied: pyparsing!=3.0.5,>=2.0.2 in /usr/local/lib/python3.8/dist-packages (from packaging->mne) (3.0.9)\n",
            "Requirement already satisfied: MarkupSafe>=0.23 in /usr/local/lib/python3.8/dist-packages (from jinja2->mne) (2.0.1)\n",
            "Requirement already satisfied: python-dateutil>=2.1 in /usr/local/lib/python3.8/dist-packages (from matplotlib->mne) (2.8.2)\n",
            "Requirement already satisfied: cycler>=0.10 in /usr/local/lib/python3.8/dist-packages (from matplotlib->mne) (0.11.0)\n",
            "Requirement already satisfied: kiwisolver>=1.0.1 in /usr/local/lib/python3.8/dist-packages (from matplotlib->mne) (1.4.4)\n",
            "Requirement already satisfied: six>=1.5 in /usr/local/lib/python3.8/dist-packages (from python-dateutil>=2.1->matplotlib->mne) (1.15.0)\n",
            "Requirement already satisfied: urllib3<1.27,>=1.21.1 in /usr/local/lib/python3.8/dist-packages (from requests>=2.19.0->pooch>=1.5->mne) (1.24.3)\n",
            "Requirement already satisfied: chardet<5,>=3.0.2 in /usr/local/lib/python3.8/dist-packages (from requests>=2.19.0->pooch>=1.5->mne) (4.0.0)\n",
            "Requirement already satisfied: certifi>=2017.4.17 in /usr/local/lib/python3.8/dist-packages (from requests>=2.19.0->pooch>=1.5->mne) (2022.12.7)\n",
            "Requirement already satisfied: idna<3,>=2.5 in /usr/local/lib/python3.8/dist-packages (from requests>=2.19.0->pooch>=1.5->mne) (2.10)\n",
            "Looking in indexes: https://pypi.org/simple, https://us-python.pkg.dev/colab-wheels/public/simple/\n",
            "Requirement already satisfied: fooof in /usr/local/lib/python3.8/dist-packages (1.0.0)\n",
            "Requirement already satisfied: scipy>=0.19.0 in /usr/local/lib/python3.8/dist-packages (from fooof) (1.7.3)\n",
            "Requirement already satisfied: numpy in /usr/local/lib/python3.8/dist-packages (from fooof) (1.21.6)\n",
            "Looking in indexes: https://pypi.org/simple, https://us-python.pkg.dev/colab-wheels/public/simple/\n",
            "Requirement already satisfied: colorednoise in /usr/local/lib/python3.8/dist-packages (2.1.0)\n",
            "Requirement already satisfied: numpy>=1.17.0 in /usr/local/lib/python3.8/dist-packages (from colorednoise) (1.21.6)\n"
          ]
        }
      ]
    },
    {
      "cell_type": "code",
      "execution_count": 23,
      "metadata": {
        "id": "276Z4eCsZ0JS"
      },
      "outputs": [],
      "source": [
        "from scipy.io import loadmat\n",
        "import os\n",
        "import mne\n",
        "import numpy as np\n",
        "from mne.datasets import fetch_fsaverage\n",
        "import sys\n",
        "sys.path.insert(1, os.path.join('PySimMIBCI', 'utils'))\n",
        "from datasets import load_and_epoch_OpenBMI_by_ftp, create_OpenBMI_info, raw_from_OpenBMI_data\n",
        "from FOOOF import fit_user_params, plot_FOOOF\n",
        "from simulation import generate_when, generate_what, generate_where\n",
        "from noise import add_aperiodic_activity, add_eye_movement\n",
        "from plots import plot_raw_2_channels"
      ]
    },
    {
      "cell_type": "markdown",
      "source": [
        "Set parameters of data simulation"
      ],
      "metadata": {
        "id": "8G_nW-8MjNGS"
      }
    },
    {
      "cell_type": "code",
      "source": [
        "# MI IDs\n",
        "MI_tasks_IDs = {'MI/left': 1, 'MI/right': 2}\n",
        "# Sample frequency\n",
        "sfreq = 1000\n",
        "# Number of trials\n",
        "N_trials = 50\n",
        "# MI trial duration in ms\n",
        "MI_duration = 4500\n",
        "# ERD percentage\n",
        "reduction = 0.5"
      ],
      "metadata": {
        "id": "ksf_lNH6jIkW"
      },
      "execution_count": 17,
      "outputs": []
    },
    {
      "cell_type": "markdown",
      "source": [
        "Download real MI-EEG data from session 1 of subject 27 of OpenBMI dataset and create corresponding MNE Epochs object."
      ],
      "metadata": {
        "id": "lKMAJdGSi1ZV"
      }
    },
    {
      "cell_type": "code",
      "source": [
        "epochs_real, epochs_real_right, epochs_real_left = load_and_epoch_OpenBMI_by_ftp(subject=27,\n",
        "                                                                                 session=1,\n",
        "                                                                                 epoch_window=[0, 4],\n",
        "                                                                                 picks=None)"
      ],
      "metadata": {
        "id": "74hbGeWzbj5c"
      },
      "execution_count": 18,
      "outputs": []
    },
    {
      "cell_type": "markdown",
      "source": [
        "Generate suitable mne Info object for OpenBMI data."
      ],
      "metadata": {
        "id": "f4a6SC5Wjadn"
      }
    },
    {
      "cell_type": "code",
      "source": [
        "info = create_OpenBMI_info()"
      ],
      "metadata": {
        "id": "6j7fZK_sjeoQ"
      },
      "execution_count": 19,
      "outputs": []
    },
    {
      "cell_type": "markdown",
      "source": [
        "Fit aperiodic and periodic parameters of real data."
      ],
      "metadata": {
        "id": "RYZZ60CsjR7M"
      }
    },
    {
      "cell_type": "code",
      "source": [
        "user_params = fit_user_params(epochs_real, epochs_real_right, epochs_real_left)"
      ],
      "metadata": {
        "id": "nFQHeYtZcXfi",
        "colab": {
          "base_uri": "https://localhost:8080/"
        },
        "outputId": "f29c6d5f-4f3d-41a6-a7e6-e70914f4f2c6"
      },
      "execution_count": 20,
      "outputs": [
        {
          "output_type": "stream",
          "name": "stderr",
          "text": [
            "/content/PySimMIBCI/utils/FOOOF.py:84: UserWarning: Zero value in spectrum for channel TP10\n",
            "  PSD_left, freqs = epochs_left.compute_psd(method='multitaper',\n",
            "/content/PySimMIBCI/utils/FOOOF.py:88: UserWarning: Zero value in spectrum for channel TP10\n",
            "  PSD_both, freqs_both = epochs.compute_psd(method='multitaper',\n"
          ]
        }
      ]
    },
    {
      "cell_type": "markdown",
      "source": [
        "Setup source space and compute forward solution."
      ],
      "metadata": {
        "id": "SXYn2J6ZjjLo"
      }
    },
    {
      "cell_type": "code",
      "source": [
        "# Download head model (fsaverage) files\n",
        "fs_dir = fetch_fsaverage(verbose=False)\n",
        "subjects_dir = os.path.dirname(fs_dir)\n",
        "src = os.path.join(fs_dir, 'bem', 'fsaverage-ico-5-src.fif')\n",
        "bem = os.path.join(fs_dir, 'bem', 'fsaverage-5120-5120-5120-bem-sol.fif')\n",
        "subject = 'fsaverage'\n",
        "trans = 'fsaverage'  # MNE has a built-in fsaverage transformation\n",
        "fwd = mne.make_forward_solution(info, trans=trans, src=src,\n",
        "                                bem=bem, eeg=True, mindist=5.0)\n",
        "# Here, :class:`~mne.simulation.SourceSimulator` is used, which allows to\n",
        "# specify where (label), what (source_time_series), and when (events) an\n",
        "# event type will occur.\n",
        "src = fwd['src']\n",
        "source_simulator = mne.simulation.SourceSimulator(src, tstep=1/sfreq)"
      ],
      "metadata": {
        "colab": {
          "base_uri": "https://localhost:8080/"
        },
        "id": "bxiNat_Ijnp5",
        "outputId": "ec10cf1c-60d1-43e2-ed96-53617adbfe55"
      },
      "execution_count": 24,
      "outputs": [
        {
          "output_type": "stream",
          "name": "stderr",
          "text": [
            "Downloading data from 'https://osf.io/3bxqt/download?version=2' to file '/tmp/tmp6ugtp0bq/temp.zip'.\n",
            "Downloading data from 'https://osf.io/7ve8g/download?version=4' to file '/tmp/tmprvzq7oyg/temp.zip'.\n"
          ]
        }
      ]
    },
    {
      "cell_type": "markdown",
      "source": [
        "Generate when, what and where information for the task-related component in right hand MI vs left hand MI scenario."
      ],
      "metadata": {
        "id": "Ehi6T3nxjp9t"
      }
    },
    {
      "cell_type": "code",
      "source": [
        "events_info = {0: {'label': 'MI/left', 'duration': MI_duration},\n",
        "               1: {'label': 'MI/right', 'duration': MI_duration}}\n",
        "when = generate_when(events_info, N_trials, sfreq)\n",
        "\n",
        "what = generate_what(MI_tasks_IDs.keys(), when, user_params, MI_duration,\n",
        "                     sfreq, N_trials, reduction)\n",
        "where = generate_where(subject, subjects_dir)"
      ],
      "metadata": {
        "id": "etjHCWkwjyez"
      },
      "execution_count": 25,
      "outputs": []
    },
    {
      "cell_type": "markdown",
      "source": [
        "Add task-related component to source simulator object."
      ],
      "metadata": {
        "id": "6agjuxBhjzwH"
      }
    },
    {
      "cell_type": "code",
      "source": [
        "for label in what.keys():\n",
        "    for task_ID, task in enumerate(MI_tasks_IDs.keys(), 1):\n",
        "        when_task = when[np.where(when[:, 2] == task_ID)[0]]\n",
        "        source_simulator.add_data(label=where[label],\n",
        "                                  waveform=what[label][task],\n",
        "                                  events=when_task)"
      ],
      "metadata": {
        "id": "Y4vMIbvRj8gu"
      },
      "execution_count": 26,
      "outputs": []
    },
    {
      "cell_type": "markdown",
      "source": [
        "Simulate raw data. Project the source time series to sensor space.\n",
        "The `mne.simulation.SourceSimulator` object can be given directly to the `mne.simulation.simulate_raw` function."
      ],
      "metadata": {
        "id": "VBGvhomaj_Ym"
      }
    },
    {
      "cell_type": "code",
      "source": [
        "raw_sim = mne.simulation.simulate_raw(info, source_simulator, forward=fwd)\n",
        "raw_sim.set_eeg_reference(ref_channels='average')"
      ],
      "metadata": {
        "id": "zcWKRom-kPAd"
      },
      "execution_count": null,
      "outputs": []
    },
    {
      "cell_type": "markdown",
      "source": [
        "Add aperiodic activity (background noise) to raw simulated data. Here, user-specific aperiodic parameters are employed."
      ],
      "metadata": {
        "id": "zpCo_hq0kQ4Q"
      }
    },
    {
      "cell_type": "code",
      "source": [
        "raw_sim = add_aperiodic_activity(raw_sim,\n",
        "                                 exponent=user_params['aperiodic_params'][1],\n",
        "                                 offset=user_params['aperiodic_params'][0])"
      ],
      "metadata": {
        "id": "wnk9sW8AkUaq"
      },
      "execution_count": null,
      "outputs": []
    },
    {
      "cell_type": "markdown",
      "source": [
        "Add eog artifacts by MNE function"
      ],
      "metadata": {
        "id": "9FJ5EaqDkXeD"
      }
    },
    {
      "cell_type": "code",
      "source": [
        "mne.simulation.add_eog(raw_sim)"
      ],
      "metadata": {
        "id": "YbHGFb_LkZN9"
      },
      "execution_count": null,
      "outputs": []
    },
    {
      "cell_type": "markdown",
      "source": [
        "Add eye-movement artifacts"
      ],
      "metadata": {
        "id": "j8doCyuMkc-F"
      }
    },
    {
      "cell_type": "code",
      "source": [
        "add_eye_movement(raw_sim)"
      ],
      "metadata": {
        "id": "3rrZiTK6kcaf"
      },
      "execution_count": null,
      "outputs": []
    },
    {
      "cell_type": "markdown",
      "source": [
        "Epoch data"
      ],
      "metadata": {
        "id": "llkaw20NkkUH"
      }
    },
    {
      "cell_type": "code",
      "source": [
        "epochs_sim = mne.Epochs(raw_sim, when, MI_tasks_IDs, tmin=0, tmax=4,\n",
        "                        baseline=None)\n",
        "epochs_sim_right = epochs_sim['MI/right']\n",
        "epochs_sim_left = epochs_sim['MI/left']"
      ],
      "metadata": {
        "id": "Bzdltw-YkgtV"
      },
      "execution_count": null,
      "outputs": []
    },
    {
      "cell_type": "markdown",
      "source": [
        "FOOOF analysis"
      ],
      "metadata": {
        "id": "hiMwP-6NkmqD"
      }
    },
    {
      "cell_type": "code",
      "source": [
        "f_min = 1\n",
        "f_max = 40\n",
        "t_min = 0\n",
        "t_max = 3\n",
        "ch_names = epochs_sim.ch_names\n",
        "PSD_sim_right, freqs = epochs_sim_right.compute_psd(method='multitaper',\n",
        "                                                    fmin=f_min, fmax=f_max,\n",
        "                                                    tmin=t_min,\n",
        "                                                    tmax=t_max).get_data(\n",
        "                                                        return_freqs=True)\n",
        "PSD_sim_left, freqs = epochs_sim_left.compute_psd(method='multitaper',\n",
        "                                                  fmin=f_min, fmax=f_max,\n",
        "                                                  tmin=t_min,\n",
        "                                                  tmax=t_max).get_data(\n",
        "                                                        return_freqs=True)\n",
        "\n",
        "plot_FOOOF(freqs, np.mean(PSD_sim_right[:, ch_names.index('C3')], axis=0))\n",
        "plot_FOOOF(freqs, np.mean(PSD_sim_right[:, ch_names.index('C4')], axis=0))\n",
        "plot_FOOOF(freqs, np.mean(PSD_sim_left[:, ch_names.index('C3')], axis=0))\n",
        "plot_FOOOF(freqs, np.mean(PSD_sim_left[:, ch_names.index('C4')], axis=0))\n",
        "\n",
        "PSD_real_right, freqs = epochs_real_right.compute_psd(method='multitaper',\n",
        "                                                      fmin=f_min, fmax=f_max,\n",
        "                                                      tmin=t_min,\n",
        "                                                      tmax=t_max).get_data(\n",
        "                                                        return_freqs=True)\n",
        "PSD_real_left, freqs = epochs_real_left.compute_psd(method='multitaper',\n",
        "                                                    fmin=f_min, fmax=f_max,\n",
        "                                                    tmin=t_min,\n",
        "                                                    tmax=t_max).get_data(\n",
        "                                                        return_freqs=True)\n",
        "ch_names = epochs_real.ch_names\n",
        "plot_FOOOF(freqs, np.mean(PSD_real_right[:, ch_names.index('C3')], axis=0))\n",
        "plot_FOOOF(freqs, np.mean(PSD_real_right[:, ch_names.index('C4')], axis=0))\n",
        "plot_FOOOF(freqs, np.mean(PSD_real_left[:, ch_names.index('C3')], axis=0))\n",
        "plot_FOOOF(freqs, np.mean(PSD_real_left[:, ch_names.index('C4')], axis=0))"
      ],
      "metadata": {
        "id": "Dh89wJEyko-x"
      },
      "execution_count": null,
      "outputs": []
    },
    {
      "cell_type": "markdown",
      "source": [
        "Plot some EEG channels"
      ],
      "metadata": {
        "id": "tqwcDv-Lkod7"
      }
    },
    {
      "cell_type": "code",
      "source": [
        "# Real data\n",
        "raw_real = raw_from_OpenBMI_data(fname)\n",
        "raw_real.filter(l_freq=0.05, h_freq=200, picks='eeg', method='iir',\n",
        "                phase='zero')\n",
        "plot_raw_2_channels(raw_real, start=20, duration=20)\n",
        "\n",
        "# Simulated data\n",
        "raw_sim.filter(l_freq=0.05, h_freq=200, picks='eeg', method='iir',\n",
        "               phase='zero')\n",
        "plot_raw_2_channels(raw_sim, start=20, duration=20)"
      ],
      "metadata": {
        "id": "lKQLzmf9kzmQ"
      },
      "execution_count": null,
      "outputs": []
    },
    {
      "cell_type": "code",
      "source": [],
      "metadata": {
        "id": "gXJwTSFxnVl3"
      },
      "execution_count": null,
      "outputs": []
    }
  ]
}