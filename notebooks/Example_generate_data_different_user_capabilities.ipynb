{
  "nbformat": 4,
  "nbformat_minor": 0,
  "metadata": {
    "colab": {
      "provenance": [],
      "authorship_tag": "ABX9TyNt3KNPivy306Fb7xtVpauy",
      "include_colab_link": true
    },
    "kernelspec": {
      "name": "python3",
      "display_name": "Python 3"
    },
    "language_info": {
      "name": "python"
    }
  },
  "cells": [
    {
      "cell_type": "markdown",
      "metadata": {
        "id": "view-in-github",
        "colab_type": "text"
      },
      "source": [
        "<a href=\"https://colab.research.google.com/github/catalinamagalvan/PySimMIBCI/blob/main/PySimMIBCI%20Toolbox/Example_generate_data_different_user_capabilities.ipynb\" target=\"_parent\"><img src=\"https://colab.research.google.com/assets/colab-badge.svg\" alt=\"Open In Colab\"/></a>"
      ]
    },
    {
      "cell_type": "markdown",
      "source": [
        "\n",
        "# Simulation of users with different brain modulation capabilities\n",
        "This Google colab notebook illustrates how to generate MI-BCI data related to users with different capabilities to control a BCI.\n",
        "For doing so, two strategies are proposed: \n",
        "\n",
        "1.   The first strategy employs different percentages of desynchronization in the $\\alpha$ band to simulate the typical ERD in the contralateral hand motor area. In this example, subject S20 is simulated, considering a 20% of desynchronization. In the simulation of S20, all the trials have the same modulation level.\n",
        "2. The second strategy consists in the inclusion of a certain proportion of failed MI trials, that is, trials without ERD in the corresponding area. In this example, subject SF30 is simulated, considering a 30% of trials without modulation. For SF30, the ideal percentage of desynchronization (50%) is used.\n",
        "\n",
        "Notes:\n",
        "\n",
        "*   These two strategies can also be combined to artificially generate users with different inclinations towards the control of a MI-BCI.\n",
        "*   In order to see the classification results obtained for S20 see the example [Example_cross_validation_simdataset.ipynb](https://github.com/catalinamagalvan/PySimMIBCI/blob/main/FBCNet%20Toolbox/Example_cross_validation_simdataset.ipynb).\n",
        "\n"
      ],
      "metadata": {
        "id": "hIBTyf8Jfdhi"
      }
    },
    {
      "cell_type": "markdown",
      "source": [
        "##Clone GitHub repository"
      ],
      "metadata": {
        "id": "WaU63AJB1fm2"
      }
    },
    {
      "cell_type": "code",
      "source": [
        "!git clone https://github.com/catalinamagalvan/PySimMIBCI.git"
      ],
      "metadata": {
        "id": "z6RfQO-wg63k"
      },
      "execution_count": null,
      "outputs": []
    },
    {
      "cell_type": "markdown",
      "source": [
        "##Install and import the required Python libraries"
      ],
      "metadata": {
        "id": "hNovhldQ1hny"
      }
    },
    {
      "cell_type": "code",
      "source": [
        "!pip install mne==1.3.0\n",
        "!pip install fooof==1.0.0\n",
        "!pip install colorednoise==2.1.0"
      ],
      "metadata": {
        "id": "lILvzvcPdpYy"
      },
      "execution_count": null,
      "outputs": []
    },
    {
      "cell_type": "code",
      "execution_count": null,
      "metadata": {
        "id": "276Z4eCsZ0JS"
      },
      "outputs": [],
      "source": [
        "from scipy.io import loadmat\n",
        "import os\n",
        "import mne\n",
        "import numpy as np\n",
        "from mne.datasets import fetch_fsaverage\n",
        "import sys\n",
        "sys.path.insert(1, os.path.join('PySimMIBCI', 'PySimMIBCI Toolbox', 'utils'))\n",
        "from datasets import (load_and_epoch_OpenBMI_by_ftp, create_BCIIV1_info,\n",
        "                      raw_from_OpenBMI_data_by_ftp)\n",
        "from simulation import (set_up_source_forward, generate_when, generate_what,\n",
        "                        generate_what_failed, generate_where,\n",
        "                        save_mat_simulated_data)\n",
        "from noise import add_aperiodic_activity, add_eye_movement\n",
        "from plots import plot_raw_2_channels"
      ]
    },
    {
      "cell_type": "markdown",
      "source": [
        "## Set up general simulation parameters"
      ],
      "metadata": {
        "id": "8G_nW-8MjNGS"
      }
    },
    {
      "cell_type": "code",
      "source": [
        "# MI IDs\n",
        "MI_tasks_IDs = {'MI/left': 1, 'MI/right': 2}\n",
        "# Sample frequency\n",
        "sfreq = 1000\n",
        "# Number of trials\n",
        "N_trials = 50\n",
        "# MI trial duration in ms\n",
        "MI_duration = 4500"
      ],
      "metadata": {
        "id": "ksf_lNH6jIkW"
      },
      "execution_count": null,
      "outputs": []
    },
    {
      "cell_type": "markdown",
      "source": [
        "Note: here, for both simulations user g from BCI competition IV dataset 1 is employed as the guide BCI-user. Thus, its aperiodic and aperiodic parameters are employed for the simulation."
      ],
      "metadata": {
        "id": "qUHmzIDdtPhK"
      }
    },
    {
      "cell_type": "code",
      "source": [
        "user_params = {'aperiodic_params': [-7.17, 1.14],\n",
        "               'peak_params': {'G_precentral-lh': [9.54, 1, 2.52],\n",
        "                               'G_precentral-rh': [10.13, 0.8, 1.62]}}"
      ],
      "metadata": {
        "id": "_C6sHaiPtQm2"
      },
      "execution_count": null,
      "outputs": []
    },
    {
      "cell_type": "markdown",
      "source": [
        "Generate suitable mne Info object for BCI competition IV dataset 1 data."
      ],
      "metadata": {
        "id": "f4a6SC5Wjadn"
      }
    },
    {
      "cell_type": "code",
      "source": [
        "info = create_BCIIV1_info()"
      ],
      "metadata": {
        "id": "6j7fZK_sjeoQ"
      },
      "execution_count": null,
      "outputs": []
    },
    {
      "cell_type": "markdown",
      "source": [
        "#Simulation of subject S20\n",
        "Parameters:\n",
        "*   Percentage of ERD: 20%,\n",
        "*   Percentage of failed trials: 0%.\n",
        "\n"
      ],
      "metadata": {
        "id": "tPKrUoHauHlJ"
      }
    },
    {
      "cell_type": "code",
      "source": [
        "reduction = 0.2"
      ],
      "metadata": {
        "id": "AxGRjGODuG24"
      },
      "execution_count": null,
      "outputs": []
    },
    {
      "cell_type": "markdown",
      "source": [
        "##Set up source space and compute forward solution.\n",
        "\n",
        "Here, *fsaverage* head model is employed, which is a template brain based on a combination of 40 MRI scans of real brains."
      ],
      "metadata": {
        "id": "SXYn2J6ZjjLo"
      }
    },
    {
      "cell_type": "code",
      "source": [
        "subject = 'fsaverage'\n",
        "fwd, source_simulator = set_up_source_forward(subject, info)"
      ],
      "metadata": {
        "id": "bxiNat_Ijnp5"
      },
      "execution_count": null,
      "outputs": []
    },
    {
      "cell_type": "markdown",
      "source": [
        "##Generate task-related when, what and where information\n",
        "Create events, waveform and spatial information for the task-related component in right hand MI vs left hand MI scenario."
      ],
      "metadata": {
        "id": "Ehi6T3nxjp9t"
      }
    },
    {
      "cell_type": "code",
      "source": [
        "events_info = {0: {'label': 'MI/left', 'duration': MI_duration},\n",
        "               1: {'label': 'MI/right', 'duration': MI_duration}}\n",
        "when = generate_when(events_info, N_trials, sfreq)\n",
        "what = generate_what(MI_tasks_IDs.keys(), when, user_params, MI_duration,\n",
        "                     sfreq, N_trials, reduction)\n",
        "where = generate_where(subject)"
      ],
      "metadata": {
        "id": "etjHCWkwjyez"
      },
      "execution_count": null,
      "outputs": []
    },
    {
      "cell_type": "markdown",
      "source": [
        "##Add task-related component to source simulator object."
      ],
      "metadata": {
        "id": "6agjuxBhjzwH"
      }
    },
    {
      "cell_type": "code",
      "source": [
        "for label in what.keys():\n",
        "    for task_ID, task in enumerate(MI_tasks_IDs.keys(), 1):\n",
        "        when_task = when[np.where(when[:, 2] == task_ID)[0]]\n",
        "        source_simulator.add_data(label=where[label],\n",
        "                                  waveform=what[label][task],\n",
        "                                  events=when_task)"
      ],
      "metadata": {
        "id": "Y4vMIbvRj8gu"
      },
      "execution_count": null,
      "outputs": []
    },
    {
      "cell_type": "markdown",
      "source": [
        "##Simulate raw data\n",
        "\n",
        "Project the source time series to sensor space.\n",
        "For doing so, the `mne.simulation.SourceSimulator` object is given directly to the `mne.simulation.simulate_raw` function."
      ],
      "metadata": {
        "id": "VBGvhomaj_Ym"
      }
    },
    {
      "cell_type": "code",
      "source": [
        "raw_sim_S20 = mne.simulation.simulate_raw(info, source_simulator, forward=fwd)\n",
        "raw_sim_S20.set_eeg_reference(ref_channels='average')"
      ],
      "metadata": {
        "id": "zcWKRom-kPAd",
        "outputId": "fe31c001-971c-46b4-fbce-d328b2ee5f53",
        "colab": {
          "base_uri": "https://localhost:8080/",
          "height": 275
        }
      },
      "execution_count": null,
      "outputs": [
        {
          "output_type": "execute_result",
          "data": {
            "text/plain": [
              "<RawArray | 41 x 225000 (225.0 s), ~70.4 MB, data loaded>"
            ],
            "text/html": [
              "<table class=\"table table-hover table-striped table-sm table-responsive small\">\n",
              "    <tr>\n",
              "        <th>Measurement date</th>\n",
              "        \n",
              "        <td>Unknown</td>\n",
              "        \n",
              "    </tr>\n",
              "    <tr>\n",
              "        <th>Experimenter</th>\n",
              "        \n",
              "        <td>Unknown</td>\n",
              "        \n",
              "    </tr>\n",
              "        <th>Participant</th>\n",
              "        \n",
              "        <td>Unknown</td>\n",
              "        \n",
              "    </tr>\n",
              "    <tr>\n",
              "        <th>Digitized points</th>\n",
              "        \n",
              "        <td>44 points</td>\n",
              "        \n",
              "    </tr>\n",
              "    <tr>\n",
              "        <th>Good channels</th>\n",
              "        <td>41 EEG</td>\n",
              "    </tr>\n",
              "    <tr>\n",
              "        <th>Bad channels</th>\n",
              "        <td>None</td>\n",
              "    </tr>\n",
              "    <tr>\n",
              "        <th>EOG channels</th>\n",
              "        <td>Not available</td>\n",
              "    </tr>\n",
              "    <tr>\n",
              "        <th>ECG channels</th>\n",
              "        <td>Not available</td>\n",
              "    \n",
              "    <tr>\n",
              "        <th>Sampling frequency</th>\n",
              "        <td>1000.00 Hz</td>\n",
              "    </tr>\n",
              "    \n",
              "    \n",
              "    <tr>\n",
              "        <th>Highpass</th>\n",
              "        <td>0.00 Hz</td>\n",
              "    </tr>\n",
              "    \n",
              "    \n",
              "    <tr>\n",
              "        <th>Lowpass</th>\n",
              "        <td>500.00 Hz</td>\n",
              "    </tr>\n",
              "    \n",
              "    \n",
              "    \n",
              "    <tr>\n",
              "        <th>Duration</th>\n",
              "        <td>00:03:45 (HH:MM:SS)</td>\n",
              "    </tr>\n",
              "</table>"
            ]
          },
          "metadata": {},
          "execution_count": 11
        }
      ]
    },
    {
      "cell_type": "markdown",
      "source": [
        "##Add non-task-related components\n",
        "\n",
        "\n",
        "*   Aperiodic activity (background noise) to raw simulated data Here, user-specific aperiodic parameters are employed.\n",
        "*   Eog artifacts by MNE function.\n",
        "*   Eye-movement artifacts.\n",
        "\n"
      ],
      "metadata": {
        "id": "BQZznnYFlcdA"
      }
    },
    {
      "cell_type": "code",
      "source": [
        "raw_sim_S20 = add_aperiodic_activity(raw_sim_S20,\n",
        "                                     exponent=user_params['aperiodic_params'][1],\n",
        "                                     offset=user_params['aperiodic_params'][0])\n",
        "mne.simulation.add_eog(raw_sim_S20)\n",
        "add_eye_movement(raw_sim_S20)"
      ],
      "metadata": {
        "id": "wnk9sW8AkUaq"
      },
      "execution_count": null,
      "outputs": []
    },
    {
      "cell_type": "markdown",
      "source": [
        "##Save generated data (optional)\n",
        "Save simulated data in a .mat file compatible with FBCNet Toolbox functions."
      ],
      "metadata": {
        "id": "oI_KEDX2_M8V"
      }
    },
    {
      "cell_type": "code",
      "source": [
        "spath = os.path.join('PySimMIBCI', 'FBCNet Toolbox', 'data', 'simdataset')\n",
        "save_mat_simulated_data(raw_sim_S20, when, spath, 's20.mat')"
      ],
      "metadata": {
        "id": "nRTirLNs-lDG"
      },
      "execution_count": null,
      "outputs": []
    },
    {
      "cell_type": "markdown",
      "source": [
        "#Generation of subject SF30\n",
        "*   Percentage of ERD: 50% (ideal),\n",
        "*   Percentage of failed trials: 30%.\n",
        "\n",
        "\n"
      ],
      "metadata": {
        "id": "1TwM-U4XGElP"
      }
    },
    {
      "cell_type": "code",
      "source": [
        "reduction = 0.5"
      ],
      "metadata": {
        "id": "gXJwTSFxnVl3"
      },
      "execution_count": null,
      "outputs": []
    },
    {
      "cell_type": "markdown",
      "source": [
        "##Set up source space and compute forward solution.\n",
        "\n",
        "Here, fsavarage head model is employed, which is a template brain based on a combination of 40 MRI scans of real brains."
      ],
      "metadata": {
        "id": "2ZZCVuprGpgC"
      }
    },
    {
      "cell_type": "code",
      "source": [
        "subject = 'fsaverage'\n",
        "fwd, source_simulator = set_up_source_forward(subject, info)"
      ],
      "metadata": {
        "id": "Q5poqj46GrOk"
      },
      "execution_count": null,
      "outputs": []
    },
    {
      "cell_type": "markdown",
      "source": [
        "##Generate task-related when, what and where information\n",
        "Events, waveform and spatial information for the task-related component in right hand MI vs left hand MI scenario."
      ],
      "metadata": {
        "id": "IVXvu_bPG2Y8"
      }
    },
    {
      "cell_type": "code",
      "source": [
        "events_info = {0: {'label': 'MI/left', 'duration': MI_duration},\n",
        "               1: {'label': 'MI/right', 'duration': MI_duration}}\n",
        "p_failed = 0.3\n",
        "when = generate_when(events_info, N_trials, sfreq)\n",
        "what = generate_what_failed(MI_tasks_IDs.keys(), when, user_params, MI_duration, sfreq,\n",
        "                            N_trials, reduction, p_failed)\n",
        "where = generate_where(subject)"
      ],
      "metadata": {
        "id": "OTqigESXG6Av"
      },
      "execution_count": null,
      "outputs": []
    },
    {
      "cell_type": "markdown",
      "source": [
        "##Add task-related component to source simulator object"
      ],
      "metadata": {
        "id": "sC_yWJcaHEsj"
      }
    },
    {
      "cell_type": "code",
      "source": [
        "for label in what.keys():\n",
        "    for task_ID, task in enumerate(MI_tasks_IDs.keys(), 1):\n",
        "        when_task = when[np.where(when[:, 2] == task_ID)[0]]\n",
        "        source_simulator.add_data(label=where[label],\n",
        "                                  waveform=what[label][task],\n",
        "                                  events=when_task)"
      ],
      "metadata": {
        "id": "KukzJnzzG93S"
      },
      "execution_count": null,
      "outputs": []
    },
    {
      "cell_type": "markdown",
      "source": [
        "##Simulate raw data. \n",
        "\n",
        "Project the source time series to sensor space.\n",
        "For doing so, the `mne.simulation.SourceSimulator` object is given directly to the `mne.simulation.simulate_raw` function."
      ],
      "metadata": {
        "id": "eylHQywNH1Jo"
      }
    },
    {
      "cell_type": "code",
      "source": [
        "raw_sim_SF30 = mne.simulation.simulate_raw(info, source_simulator, forward=fwd)\n",
        "raw_sim_SF30.set_eeg_reference(ref_channels='average')"
      ],
      "metadata": {
        "id": "lgHLbubSHl-W",
        "outputId": "f76926ea-acbe-44d8-b7e4-40e290640dd0",
        "colab": {
          "base_uri": "https://localhost:8080/",
          "height": 275
        }
      },
      "execution_count": null,
      "outputs": [
        {
          "output_type": "execute_result",
          "data": {
            "text/plain": [
              "<RawArray | 41 x 225000 (225.0 s), ~70.4 MB, data loaded>"
            ],
            "text/html": [
              "<table class=\"table table-hover table-striped table-sm table-responsive small\">\n",
              "    <tr>\n",
              "        <th>Measurement date</th>\n",
              "        \n",
              "        <td>Unknown</td>\n",
              "        \n",
              "    </tr>\n",
              "    <tr>\n",
              "        <th>Experimenter</th>\n",
              "        \n",
              "        <td>Unknown</td>\n",
              "        \n",
              "    </tr>\n",
              "        <th>Participant</th>\n",
              "        \n",
              "        <td>Unknown</td>\n",
              "        \n",
              "    </tr>\n",
              "    <tr>\n",
              "        <th>Digitized points</th>\n",
              "        \n",
              "        <td>44 points</td>\n",
              "        \n",
              "    </tr>\n",
              "    <tr>\n",
              "        <th>Good channels</th>\n",
              "        <td>41 EEG</td>\n",
              "    </tr>\n",
              "    <tr>\n",
              "        <th>Bad channels</th>\n",
              "        <td>None</td>\n",
              "    </tr>\n",
              "    <tr>\n",
              "        <th>EOG channels</th>\n",
              "        <td>Not available</td>\n",
              "    </tr>\n",
              "    <tr>\n",
              "        <th>ECG channels</th>\n",
              "        <td>Not available</td>\n",
              "    \n",
              "    <tr>\n",
              "        <th>Sampling frequency</th>\n",
              "        <td>1000.00 Hz</td>\n",
              "    </tr>\n",
              "    \n",
              "    \n",
              "    <tr>\n",
              "        <th>Highpass</th>\n",
              "        <td>0.00 Hz</td>\n",
              "    </tr>\n",
              "    \n",
              "    \n",
              "    <tr>\n",
              "        <th>Lowpass</th>\n",
              "        <td>500.00 Hz</td>\n",
              "    </tr>\n",
              "    \n",
              "    \n",
              "    \n",
              "    <tr>\n",
              "        <th>Duration</th>\n",
              "        <td>00:03:45 (HH:MM:SS)</td>\n",
              "    </tr>\n",
              "</table>"
            ]
          },
          "metadata": {},
          "execution_count": 19
        }
      ]
    },
    {
      "cell_type": "markdown",
      "source": [
        "##Add non-task-related components:\n",
        "\n",
        "*   Aperiodic activity (background noise). Here, user-specific aperiodic parameters (exponent and offset) are employed.\n",
        "*   Eog artifacts by [mne.simulation.add_eog](https://mne.tools/stable/generated/mne.simulation.add_eog.html) function.\n",
        "*   Eye-movement artifacts."
      ],
      "metadata": {
        "id": "YmK58bunHmt6"
      }
    },
    {
      "cell_type": "code",
      "source": [
        "raw_sim_SF30 = add_aperiodic_activity(raw_sim_SF30,\n",
        "                                      exponent=user_params['aperiodic_params'][1],\n",
        "                                      offset=user_params['aperiodic_params'][0])\n",
        "mne.simulation.add_eog(raw_sim_SF30)\n",
        "add_eye_movement(raw_sim_SF30)"
      ],
      "metadata": {
        "id": "5g7iYB8RH42I"
      },
      "execution_count": null,
      "outputs": []
    },
    {
      "cell_type": "markdown",
      "source": [
        "##Save generated data (optional)\n",
        "Save simulated data in a .mat file compatible with FBCNet Toolbox functions."
      ],
      "metadata": {
        "id": "wgpk03KjBaY4"
      }
    },
    {
      "cell_type": "code",
      "source": [
        "spath = os.path.join('PySimMIBCI', 'FBCNet Toolbox', 'data', 'simdataset')\n",
        "save_mat_simulated_data(raw_sim_SF30, when, spath, 'sf30.mat')"
      ],
      "metadata": {
        "id": "UnWScD2UBf_R"
      },
      "execution_count": null,
      "outputs": []
    }
  ]
}