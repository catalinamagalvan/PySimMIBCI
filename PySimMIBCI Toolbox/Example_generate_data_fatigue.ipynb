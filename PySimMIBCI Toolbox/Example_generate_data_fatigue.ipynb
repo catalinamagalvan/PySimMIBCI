{
  "nbformat": 4,
  "nbformat_minor": 0,
  "metadata": {
    "colab": {
      "provenance": [],
      "authorship_tag": "ABX9TyNZjRx+0+9d8rxTlbJhRYCR",
      "include_colab_link": true
    },
    "kernelspec": {
      "name": "python3",
      "display_name": "Python 3"
    },
    "language_info": {
      "name": "python"
    }
  },
  "cells": [
    {
      "cell_type": "markdown",
      "metadata": {
        "id": "view-in-github",
        "colab_type": "text"
      },
      "source": [
        "<a href=\"https://colab.research.google.com/github/catalinamagalvan/PySimMIBCI/blob/main/PySimMIBCI%20Toolbox/Example_generate_data_fatigue.ipynb\" target=\"_parent\"><img src=\"https://colab.research.google.com/assets/colab-badge.svg\" alt=\"Open In Colab\"/></a>"
      ]
    },
    {
      "cell_type": "markdown",
      "source": [
        "# Data simulation with fatigue effect.\n",
        "This Google colab notebook illustrates how to generate MI-BCI data with the inclusion of mental fatigue effect from the middle of the session. \n",
        "Mental fatigue is associated with increased power in frontal theta (4-8 Hz) and parietal alpha (8-13 Hz) EEG rhythms."
      ],
      "metadata": {
        "id": "l3jb1sHhjHT2"
      }
    },
    {
      "cell_type": "markdown",
      "source": [
        "Clone repository"
      ],
      "metadata": {
        "id": "j0LvkkTIjg0p"
      }
    },
    {
      "cell_type": "code",
      "source": [
        "!git clone https://github.com/catalinamagalvan/PySimMIBCI.git"
      ],
      "metadata": {
        "id": "z6RfQO-wg63k",
        "colab": {
          "base_uri": "https://localhost:8080/"
        },
        "outputId": "bc37553c-5692-4cb5-e209-37262c212fa4"
      },
      "execution_count": 11,
      "outputs": [
        {
          "output_type": "stream",
          "name": "stdout",
          "text": [
            "fatal: destination path 'PySimMIBCI' already exists and is not an empty directory.\n"
          ]
        }
      ]
    },
    {
      "cell_type": "markdown",
      "source": [
        "Install required packages"
      ],
      "metadata": {
        "id": "vpD7IJMfji5r"
      }
    },
    {
      "cell_type": "code",
      "source": [
        "!pip install mne==1.3.0\n",
        "!pip install fooof==1.0.0\n",
        "!pip install colorednoise==2.1.0"
      ],
      "metadata": {
        "colab": {
          "base_uri": "https://localhost:8080/"
        },
        "id": "lILvzvcPdpYy",
        "outputId": "8f83cf87-1170-4a6b-e7cc-9672d01ac5ee"
      },
      "execution_count": 12,
      "outputs": [
        {
          "output_type": "stream",
          "name": "stdout",
          "text": [
            "Looking in indexes: https://pypi.org/simple, https://us-python.pkg.dev/colab-wheels/public/simple/\n",
            "Requirement already satisfied: mne==1.3.0 in /usr/local/lib/python3.8/dist-packages (1.3.0)\n",
            "Requirement already satisfied: tqdm in /usr/local/lib/python3.8/dist-packages (from mne==1.3.0) (4.64.1)\n",
            "Requirement already satisfied: matplotlib in /usr/local/lib/python3.8/dist-packages (from mne==1.3.0) (3.2.2)\n",
            "Requirement already satisfied: scipy>=1.1.0 in /usr/local/lib/python3.8/dist-packages (from mne==1.3.0) (1.7.3)\n",
            "Requirement already satisfied: decorator in /usr/local/lib/python3.8/dist-packages (from mne==1.3.0) (4.4.2)\n",
            "Requirement already satisfied: pooch>=1.5 in /usr/local/lib/python3.8/dist-packages (from mne==1.3.0) (1.6.0)\n",
            "Requirement already satisfied: packaging in /usr/local/lib/python3.8/dist-packages (from mne==1.3.0) (21.3)\n",
            "Requirement already satisfied: numpy>=1.15.4 in /usr/local/lib/python3.8/dist-packages (from mne==1.3.0) (1.21.6)\n",
            "Requirement already satisfied: jinja2 in /usr/local/lib/python3.8/dist-packages (from mne==1.3.0) (2.11.3)\n",
            "Requirement already satisfied: appdirs>=1.3.0 in /usr/local/lib/python3.8/dist-packages (from pooch>=1.5->mne==1.3.0) (1.4.4)\n",
            "Requirement already satisfied: requests>=2.19.0 in /usr/local/lib/python3.8/dist-packages (from pooch>=1.5->mne==1.3.0) (2.25.1)\n",
            "Requirement already satisfied: pyparsing!=3.0.5,>=2.0.2 in /usr/local/lib/python3.8/dist-packages (from packaging->mne==1.3.0) (3.0.9)\n",
            "Requirement already satisfied: MarkupSafe>=0.23 in /usr/local/lib/python3.8/dist-packages (from jinja2->mne==1.3.0) (2.0.1)\n",
            "Requirement already satisfied: cycler>=0.10 in /usr/local/lib/python3.8/dist-packages (from matplotlib->mne==1.3.0) (0.11.0)\n",
            "Requirement already satisfied: python-dateutil>=2.1 in /usr/local/lib/python3.8/dist-packages (from matplotlib->mne==1.3.0) (2.8.2)\n",
            "Requirement already satisfied: kiwisolver>=1.0.1 in /usr/local/lib/python3.8/dist-packages (from matplotlib->mne==1.3.0) (1.4.4)\n",
            "Requirement already satisfied: six>=1.5 in /usr/local/lib/python3.8/dist-packages (from python-dateutil>=2.1->matplotlib->mne==1.3.0) (1.15.0)\n",
            "Requirement already satisfied: chardet<5,>=3.0.2 in /usr/local/lib/python3.8/dist-packages (from requests>=2.19.0->pooch>=1.5->mne==1.3.0) (4.0.0)\n",
            "Requirement already satisfied: urllib3<1.27,>=1.21.1 in /usr/local/lib/python3.8/dist-packages (from requests>=2.19.0->pooch>=1.5->mne==1.3.0) (1.24.3)\n",
            "Requirement already satisfied: idna<3,>=2.5 in /usr/local/lib/python3.8/dist-packages (from requests>=2.19.0->pooch>=1.5->mne==1.3.0) (2.10)\n",
            "Requirement already satisfied: certifi>=2017.4.17 in /usr/local/lib/python3.8/dist-packages (from requests>=2.19.0->pooch>=1.5->mne==1.3.0) (2022.12.7)\n",
            "Looking in indexes: https://pypi.org/simple, https://us-python.pkg.dev/colab-wheels/public/simple/\n",
            "Requirement already satisfied: fooof==1.0.0 in /usr/local/lib/python3.8/dist-packages (1.0.0)\n",
            "Requirement already satisfied: scipy>=0.19.0 in /usr/local/lib/python3.8/dist-packages (from fooof==1.0.0) (1.7.3)\n",
            "Requirement already satisfied: numpy in /usr/local/lib/python3.8/dist-packages (from fooof==1.0.0) (1.21.6)\n",
            "Looking in indexes: https://pypi.org/simple, https://us-python.pkg.dev/colab-wheels/public/simple/\n",
            "Requirement already satisfied: colorednoise==2.1.0 in /usr/local/lib/python3.8/dist-packages (2.1.0)\n",
            "Requirement already satisfied: numpy>=1.17.0 in /usr/local/lib/python3.8/dist-packages (from colorednoise==2.1.0) (1.21.6)\n"
          ]
        }
      ]
    },
    {
      "cell_type": "code",
      "execution_count": 13,
      "metadata": {
        "id": "276Z4eCsZ0JS"
      },
      "outputs": [],
      "source": [
        "from scipy.io import loadmat\n",
        "import os\n",
        "import mne\n",
        "import numpy as np\n",
        "from mne.datasets import fetch_fsaverage\n",
        "import sys\n",
        "sys.path.insert(1, os.path.join('PySimMIBCI', 'PySimMIBCI Toolbox', 'utils'))\n",
        "from datasets import create_BCIIV1_info\n",
        "from simulation import (set_up_source_forward, generate_when, generate_what,\n",
        "                        generate_where, add_basal_theta_alpha,\n",
        "                        add_fatigue_effect)\n",
        "from noise import add_aperiodic_activity, add_eye_movement"
      ]
    },
    {
      "cell_type": "markdown",
      "source": [
        "Set parameters of data simulation"
      ],
      "metadata": {
        "id": "8G_nW-8MjNGS"
      }
    },
    {
      "cell_type": "code",
      "source": [
        "# MI IDs\n",
        "MI_tasks_IDs = {'MI/left': 1, 'MI/right': 2}\n",
        "# Sample frequency\n",
        "sfreq = 1000\n",
        "# Number of trials\n",
        "N_trials = 200\n",
        "# MI trial duration in ms\n",
        "MI_duration = 4500\n",
        "# ERD percentage\n",
        "reduction = 0.5\n",
        "# Percentage of the session at which fatigue effects start\n",
        "fatigue_start = 0.5"
      ],
      "metadata": {
        "id": "ksf_lNH6jIkW"
      },
      "execution_count": 14,
      "outputs": []
    },
    {
      "cell_type": "markdown",
      "source": [
        "Here, user g from BCI competition IV dataset 1 was employed as the guide BCI-user. Thus, its aperiodic and aperiodic parameters are employed for the simulation."
      ],
      "metadata": {
        "id": "p2xMyLDcRSYk"
      }
    },
    {
      "cell_type": "code",
      "source": [
        "user_params = {'aperiodic_params': [-7.17, 1.14],\n",
        "               'peak_params': {'G_precentral-lh': [9.54, 1, 2.52],\n",
        "                               'G_precentral-rh': [10.13, 0.8, 1.62]}}\n"
      ],
      "metadata": {
        "id": "74hbGeWzbj5c"
      },
      "execution_count": 15,
      "outputs": []
    },
    {
      "cell_type": "markdown",
      "source": [
        "Generate suitable mne Info object for BCI competition IV dataset 1 data."
      ],
      "metadata": {
        "id": "f4a6SC5Wjadn"
      }
    },
    {
      "cell_type": "code",
      "source": [
        "info = create_BCIIV1_info()"
      ],
      "metadata": {
        "id": "6j7fZK_sjeoQ"
      },
      "execution_count": 16,
      "outputs": []
    },
    {
      "cell_type": "markdown",
      "source": [
        "#Set up source space and compute forward solution.\n",
        "Here, fsavarage head model is employed, which is a template brain based on a combination of 40 MRI scans of real brains."
      ],
      "metadata": {
        "id": "SXYn2J6ZjjLo"
      }
    },
    {
      "cell_type": "code",
      "source": [
        "subject = 'fsaverage'\n",
        "fwd, source_simulator = set_up_source_forward(subject, info)"
      ],
      "metadata": {
        "id": "bxiNat_Ijnp5"
      },
      "execution_count": null,
      "outputs": []
    },
    {
      "cell_type": "markdown",
      "source": [
        "Generate when, what and where information for the task-related component in right hand MI vs left hand MI scenario."
      ],
      "metadata": {
        "id": "Ehi6T3nxjp9t"
      }
    },
    {
      "cell_type": "code",
      "source": [
        "events_info = {0: {'label': 'MI/left', 'duration': MI_duration},\n",
        "               1: {'label': 'MI/right', 'duration': MI_duration}}\n",
        "when = generate_when(events_info, N_trials, sfreq)\n",
        "what = generate_what(MI_tasks_IDs.keys(), when, user_params, MI_duration,\n",
        "                     sfreq, N_trials, reduction)\n",
        "where = generate_where(subject)"
      ],
      "metadata": {
        "id": "etjHCWkwjyez"
      },
      "execution_count": null,
      "outputs": []
    },
    {
      "cell_type": "markdown",
      "source": [
        "Add task-related component to source simulator object."
      ],
      "metadata": {
        "id": "6agjuxBhjzwH"
      }
    },
    {
      "cell_type": "code",
      "source": [
        "for label in what.keys():\n",
        "    for task_ID, task in enumerate(MI_tasks_IDs.keys(), 1):\n",
        "        when_task = when[np.where(when[:, 2] == task_ID)[0]]\n",
        "        source_simulator.add_data(label=where[label],\n",
        "                                  waveform=what[label][task],\n",
        "                                  events=when_task)"
      ],
      "metadata": {
        "id": "Y4vMIbvRj8gu"
      },
      "execution_count": null,
      "outputs": []
    },
    {
      "cell_type": "markdown",
      "source": [
        "Add fatigue effect"
      ],
      "metadata": {
        "id": "djVhfRc1bUKk"
      }
    },
    {
      "cell_type": "code",
      "source": [
        "# Add basal frontal theta and parietal alpha activity\n",
        "source_simulator = add_basal_theta_alpha(source_simulator, fatigue_start,\n",
        "                                         subject)\n",
        "# Add increased frontal theta and parietal alpha activity\n",
        "source_simulator = add_fatigue_effect(source_simulator, fatigue_start,\n",
        "                                      subject)"
      ],
      "metadata": {
        "id": "w-ZbsG_ibUYX"
      },
      "execution_count": null,
      "outputs": []
    },
    {
      "cell_type": "markdown",
      "source": [
        "#Project the source time series to sensor space.\n",
        "\n",
        "(Be patient, running this cell can take around more than an hour)."
      ],
      "metadata": {
        "id": "VBGvhomaj_Ym"
      }
    },
    {
      "cell_type": "code",
      "source": [
        "raw_sim = mne.simulation.simulate_raw(info, source_simulator, forward=fwd)\n",
        "raw_sim.set_eeg_reference(ref_channels='average')"
      ],
      "metadata": {
        "id": "zcWKRom-kPAd"
      },
      "execution_count": null,
      "outputs": []
    },
    {
      "cell_type": "markdown",
      "source": [
        "Add aperiodic activity (background noise) to raw simulated data. Here, user-specific aperiodic parameters are employed."
      ],
      "metadata": {
        "id": "zpCo_hq0kQ4Q"
      }
    },
    {
      "cell_type": "code",
      "source": [
        "raw_sim = add_aperiodic_activity(raw_sim,\n",
        "                                 exponent=user_params['aperiodic_params'][1],\n",
        "                                 offset=user_params['aperiodic_params'][0])"
      ],
      "metadata": {
        "id": "wnk9sW8AkUaq"
      },
      "execution_count": null,
      "outputs": []
    },
    {
      "cell_type": "markdown",
      "source": [
        "Add eog artifacts by MNE function"
      ],
      "metadata": {
        "id": "9FJ5EaqDkXeD"
      }
    },
    {
      "cell_type": "code",
      "source": [
        "mne.simulation.add_eog(raw_sim)"
      ],
      "metadata": {
        "id": "YbHGFb_LkZN9"
      },
      "execution_count": null,
      "outputs": []
    },
    {
      "cell_type": "markdown",
      "source": [
        "Add eye-movement artifacts"
      ],
      "metadata": {
        "id": "j8doCyuMkc-F"
      }
    },
    {
      "cell_type": "code",
      "source": [
        "add_eye_movement(raw_sim)"
      ],
      "metadata": {
        "id": "3rrZiTK6kcaf"
      },
      "execution_count": null,
      "outputs": []
    },
    {
      "cell_type": "markdown",
      "source": [
        "Epoch data"
      ],
      "metadata": {
        "id": "llkaw20NkkUH"
      }
    },
    {
      "cell_type": "code",
      "source": [
        "epochs_sim = mne.Epochs(raw_sim, when, MI_tasks_IDs, tmin=0, tmax=4,\n",
        "                        baseline=None)\n",
        "epochs_sim_right = epochs_sim['MI/right']\n",
        "epochs_sim_left = epochs_sim['MI/left']"
      ],
      "metadata": {
        "id": "Bzdltw-YkgtV"
      },
      "execution_count": null,
      "outputs": []
    },
    {
      "cell_type": "markdown",
      "source": [
        "FOOOF analysis"
      ],
      "metadata": {
        "id": "hiMwP-6NkmqD"
      }
    },
    {
      "cell_type": "code",
      "source": [
        "colormap = None\n",
        "dB = True\n",
        "normalize = True\n",
        "vlim = (0.1, 0.6)\n",
        "band_theta = [(4, 8, 'Theta')]\n",
        "band_alpha = [(8, 12, 'Alpha')]\n",
        "fig = epochs_sim[int(0.5*N_trials):int(0.75*N_trials)].plot_psd_topomap(\n",
        "    ch_type='eeg', normalize=normalize, bands=band_theta,\n",
        "    cmap=(colormap, True), dB=dB, vlim=vlim)\n",
        "fig = epochs_sim[int(0.5*N_trials):int(0.75*N_trials)].plot_psd_topomap(\n",
        "    ch_type='eeg', normalize=normalize, bands=band_alpha,\n",
        "    cmap=(colormap, True), dB=dB, vlim=vlim)\n",
        "\n",
        "\n",
        "fig = epochs_sim[int(0.75*N_trials):].plot_psd_topomap(ch_type='eeg',\n",
        "                                                       normalize=normalize,\n",
        "                                                       bands=band_theta,\n",
        "                                                       cmap=(colormap, True),\n",
        "                                                       dB=dB, vlim=vlim)\n",
        "fig = epochs_sim[int(0.75*N_trials):].plot_psd_topomap(ch_type='eeg',\n",
        "                                                       normalize=normalize,\n",
        "                                                       bands=band_alpha,\n",
        "                                                       cmap=(colormap, True),\n",
        "                                                       dB=dB, vlim=vlim)"
      ],
      "metadata": {
        "id": "Dh89wJEyko-x"
      },
      "execution_count": null,
      "outputs": []
    }
  ]
}