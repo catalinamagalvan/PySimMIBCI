{
  "nbformat": 4,
  "nbformat_minor": 0,
  "metadata": {
    "colab": {
      "provenance": [],
      "authorship_tag": "ABX9TyPpPNnwq/3QUlLb9Fu7G3LJ",
      "include_colab_link": true
    },
    "kernelspec": {
      "name": "python3",
      "display_name": "Python 3"
    },
    "language_info": {
      "name": "python"
    }
  },
  "cells": [
    {
      "cell_type": "markdown",
      "metadata": {
        "id": "view-in-github",
        "colab_type": "text"
      },
      "source": [
        "<a href=\"https://colab.research.google.com/github/catalinamagalvan/PySimMIBCI/blob/main/PySimMIBCI%20Toolbox/Example_generate_data_different_user_capabilities.ipynb\" target=\"_parent\"><img src=\"https://colab.research.google.com/assets/colab-badge.svg\" alt=\"Open In Colab\"/></a>"
      ]
    },
    {
      "cell_type": "markdown",
      "source": [
        "\n",
        "# Simulation of users with different brain modulation capabilities\n",
        "This Google colab notebook illustrates how to generate MI-BCI data related to users with different capabilities to control a BCI.\n",
        "For doing so, two strategies are proposed: \n",
        "\n",
        "1.   The first strategy employs different percentages of desynchronization in the $\\alpha$ band to simulate the typical ERD in the contralateral hand motor area. In this example, subject S20 is simulated, considering a 20% of desynchronization. In the simulation of S20, all the trials have the same modulation level.\n",
        "2. The second strategy consists in the inclusion of a certain proportion of failed MI trials, that is, trials without ERD in the corresponding area. In this example, subject SF30 is simulated, considering a 30% of trials without modulation. For SF30, the ideal percentage of desynchronization (50%) is used.\n",
        "\n",
        "Notes:\n",
        "\n",
        "*   These two strategies can also be combined to artificially generate users with different inclinations towards the control of a MI-BCI.\n",
        "*   In order to see the classification results obtained for S20 and SF30, see the examples Example_classify_S20.ipynb and Example_classify_SF30.ipynb.\n",
        "\n"
      ],
      "metadata": {
        "id": "hIBTyf8Jfdhi"
      }
    },
    {
      "cell_type": "code",
      "source": [
        "!git clone https://github.com/catalinamagalvan/PySimMIBCI.git"
      ],
      "metadata": {
        "id": "z6RfQO-wg63k",
        "colab": {
          "base_uri": "https://localhost:8080/"
        },
        "outputId": "031a6c5b-1fe3-4185-c74f-7521bbc6063c"
      },
      "execution_count": 5,
      "outputs": [
        {
          "output_type": "stream",
          "name": "stdout",
          "text": [
            "fatal: destination path 'PySimMIBCI' already exists and is not an empty directory.\n"
          ]
        }
      ]
    },
    {
      "cell_type": "code",
      "source": [
        "!pip install mne==1.3.0\n",
        "!pip install fooof==1.0.0\n",
        "!pip install colorednoise==2.1.0"
      ],
      "metadata": {
        "colab": {
          "base_uri": "https://localhost:8080/"
        },
        "id": "lILvzvcPdpYy",
        "outputId": "22852d7e-76ba-47de-eefb-9df67a21626e"
      },
      "execution_count": 6,
      "outputs": [
        {
          "output_type": "stream",
          "name": "stdout",
          "text": [
            "Looking in indexes: https://pypi.org/simple, https://us-python.pkg.dev/colab-wheels/public/simple/\n",
            "Requirement already satisfied: mne==1.3.0 in /usr/local/lib/python3.8/dist-packages (1.3.0)\n",
            "Requirement already satisfied: tqdm in /usr/local/lib/python3.8/dist-packages (from mne==1.3.0) (4.64.1)\n",
            "Requirement already satisfied: decorator in /usr/local/lib/python3.8/dist-packages (from mne==1.3.0) (4.4.2)\n",
            "Requirement already satisfied: numpy>=1.15.4 in /usr/local/lib/python3.8/dist-packages (from mne==1.3.0) (1.21.6)\n",
            "Requirement already satisfied: packaging in /usr/local/lib/python3.8/dist-packages (from mne==1.3.0) (21.3)\n",
            "Requirement already satisfied: jinja2 in /usr/local/lib/python3.8/dist-packages (from mne==1.3.0) (2.11.3)\n",
            "Requirement already satisfied: matplotlib in /usr/local/lib/python3.8/dist-packages (from mne==1.3.0) (3.2.2)\n",
            "Requirement already satisfied: pooch>=1.5 in /usr/local/lib/python3.8/dist-packages (from mne==1.3.0) (1.6.0)\n",
            "Requirement already satisfied: scipy>=1.1.0 in /usr/local/lib/python3.8/dist-packages (from mne==1.3.0) (1.7.3)\n",
            "Requirement already satisfied: requests>=2.19.0 in /usr/local/lib/python3.8/dist-packages (from pooch>=1.5->mne==1.3.0) (2.25.1)\n",
            "Requirement already satisfied: appdirs>=1.3.0 in /usr/local/lib/python3.8/dist-packages (from pooch>=1.5->mne==1.3.0) (1.4.4)\n",
            "Requirement already satisfied: pyparsing!=3.0.5,>=2.0.2 in /usr/local/lib/python3.8/dist-packages (from packaging->mne==1.3.0) (3.0.9)\n",
            "Requirement already satisfied: MarkupSafe>=0.23 in /usr/local/lib/python3.8/dist-packages (from jinja2->mne==1.3.0) (2.0.1)\n",
            "Requirement already satisfied: python-dateutil>=2.1 in /usr/local/lib/python3.8/dist-packages (from matplotlib->mne==1.3.0) (2.8.2)\n",
            "Requirement already satisfied: kiwisolver>=1.0.1 in /usr/local/lib/python3.8/dist-packages (from matplotlib->mne==1.3.0) (1.4.4)\n",
            "Requirement already satisfied: cycler>=0.10 in /usr/local/lib/python3.8/dist-packages (from matplotlib->mne==1.3.0) (0.11.0)\n",
            "Requirement already satisfied: six>=1.5 in /usr/local/lib/python3.8/dist-packages (from python-dateutil>=2.1->matplotlib->mne==1.3.0) (1.15.0)\n",
            "Requirement already satisfied: idna<3,>=2.5 in /usr/local/lib/python3.8/dist-packages (from requests>=2.19.0->pooch>=1.5->mne==1.3.0) (2.10)\n",
            "Requirement already satisfied: urllib3<1.27,>=1.21.1 in /usr/local/lib/python3.8/dist-packages (from requests>=2.19.0->pooch>=1.5->mne==1.3.0) (1.24.3)\n",
            "Requirement already satisfied: certifi>=2017.4.17 in /usr/local/lib/python3.8/dist-packages (from requests>=2.19.0->pooch>=1.5->mne==1.3.0) (2022.12.7)\n",
            "Requirement already satisfied: chardet<5,>=3.0.2 in /usr/local/lib/python3.8/dist-packages (from requests>=2.19.0->pooch>=1.5->mne==1.3.0) (4.0.0)\n",
            "Looking in indexes: https://pypi.org/simple, https://us-python.pkg.dev/colab-wheels/public/simple/\n",
            "Requirement already satisfied: fooof==1.0.0 in /usr/local/lib/python3.8/dist-packages (1.0.0)\n",
            "Requirement already satisfied: scipy>=0.19.0 in /usr/local/lib/python3.8/dist-packages (from fooof==1.0.0) (1.7.3)\n",
            "Requirement already satisfied: numpy in /usr/local/lib/python3.8/dist-packages (from fooof==1.0.0) (1.21.6)\n",
            "Looking in indexes: https://pypi.org/simple, https://us-python.pkg.dev/colab-wheels/public/simple/\n",
            "Requirement already satisfied: colorednoise==2.1.0 in /usr/local/lib/python3.8/dist-packages (2.1.0)\n",
            "Requirement already satisfied: numpy>=1.17.0 in /usr/local/lib/python3.8/dist-packages (from colorednoise==2.1.0) (1.21.6)\n"
          ]
        }
      ]
    },
    {
      "cell_type": "code",
      "execution_count": 7,
      "metadata": {
        "id": "276Z4eCsZ0JS",
        "outputId": "514d90c9-2656-4675-ddc9-b7bacbff2a76",
        "colab": {
          "base_uri": "https://localhost:8080/",
          "height": 373
        }
      },
      "outputs": [
        {
          "output_type": "error",
          "ename": "ModuleNotFoundError",
          "evalue": "ignored",
          "traceback": [
            "\u001b[0;31m---------------------------------------------------------------------------\u001b[0m",
            "\u001b[0;31mModuleNotFoundError\u001b[0m                       Traceback (most recent call last)",
            "\u001b[0;32m<ipython-input-7-2888f94952dd>\u001b[0m in \u001b[0;36m<module>\u001b[0;34m\u001b[0m\n\u001b[1;32m      6\u001b[0m \u001b[0;32mimport\u001b[0m \u001b[0msys\u001b[0m\u001b[0;34m\u001b[0m\u001b[0;34m\u001b[0m\u001b[0m\n\u001b[1;32m      7\u001b[0m \u001b[0msys\u001b[0m\u001b[0;34m.\u001b[0m\u001b[0mpath\u001b[0m\u001b[0;34m.\u001b[0m\u001b[0minsert\u001b[0m\u001b[0;34m(\u001b[0m\u001b[0;36m1\u001b[0m\u001b[0;34m,\u001b[0m \u001b[0mos\u001b[0m\u001b[0;34m.\u001b[0m\u001b[0mpath\u001b[0m\u001b[0;34m.\u001b[0m\u001b[0mjoin\u001b[0m\u001b[0;34m(\u001b[0m\u001b[0;34m'PySimMIBCI'\u001b[0m\u001b[0;34m,\u001b[0m \u001b[0;34m'utils'\u001b[0m\u001b[0;34m)\u001b[0m\u001b[0;34m)\u001b[0m\u001b[0;34m\u001b[0m\u001b[0;34m\u001b[0m\u001b[0m\n\u001b[0;32m----> 8\u001b[0;31m from datasets import (load_and_epoch_OpenBMI_by_ftp, create_OpenBMI_info,\n\u001b[0m\u001b[1;32m      9\u001b[0m                       raw_from_OpenBMI_data_by_ftp)\n\u001b[1;32m     10\u001b[0m from simulation import (set_up_source_forward, generate_when, generate_what,\n",
            "\u001b[0;31mModuleNotFoundError\u001b[0m: No module named 'datasets'",
            "",
            "\u001b[0;31m---------------------------------------------------------------------------\u001b[0;32m\nNOTE: If your import is failing due to a missing package, you can\nmanually install dependencies using either !pip or !apt.\n\nTo view examples of installing some common dependencies, click the\n\"Open Examples\" button below.\n\u001b[0;31m---------------------------------------------------------------------------\u001b[0m\n"
          ],
          "errorDetails": {
            "actions": [
              {
                "action": "open_url",
                "actionText": "Open Examples",
                "url": "/notebooks/snippets/importing_libraries.ipynb"
              }
            ]
          }
        }
      ],
      "source": [
        "from scipy.io import loadmat\n",
        "import os\n",
        "import mne\n",
        "import numpy as np\n",
        "from mne.datasets import fetch_fsaverage\n",
        "import sys\n",
        "sys.path.insert(1, os.path.join('PySimMIBCI', 'PySimMIBCI Toolbox' 'utils'))\n",
        "from datasets import (load_and_epoch_OpenBMI_by_ftp, create_OpenBMI_info,\n",
        "                      raw_from_OpenBMI_data_by_ftp)\n",
        "from simulation import (set_up_source_forward, generate_when, generate_what,\n",
        "                        generate_what_failed, generate_where)\n",
        "from noise import add_aperiodic_activity, add_eye_movement\n",
        "from plots import plot_raw_2_channels"
      ]
    },
    {
      "cell_type": "markdown",
      "source": [
        "# Set up general simulation parameters."
      ],
      "metadata": {
        "id": "8G_nW-8MjNGS"
      }
    },
    {
      "cell_type": "code",
      "source": [
        "# MI IDs\n",
        "MI_tasks_IDs = {'MI/left': 1, 'MI/right': 2}\n",
        "# Sample frequency\n",
        "sfreq = 1000\n",
        "# Number of trials\n",
        "N_trials = 50\n",
        "# MI trial duration in ms\n",
        "MI_duration = 4500"
      ],
      "metadata": {
        "id": "ksf_lNH6jIkW"
      },
      "execution_count": null,
      "outputs": []
    },
    {
      "cell_type": "markdown",
      "source": [
        "Here, for both simulations user g from BCI competition IV dataset 1 is employed as the guide BCI-user. Thus, its aperiodic and aperiodic parameters are employed for the simulation."
      ],
      "metadata": {
        "id": "qUHmzIDdtPhK"
      }
    },
    {
      "cell_type": "code",
      "source": [
        "user_params = {'aperiodic_params': [-7.17, 1.14],\n",
        "               'peak_params': {'G_precentral-lh': [9.54, 1, 2.52],\n",
        "                               'G_precentral-rh': [10.13, 0.8, 1.62]}}"
      ],
      "metadata": {
        "id": "_C6sHaiPtQm2"
      },
      "execution_count": null,
      "outputs": []
    },
    {
      "cell_type": "markdown",
      "source": [
        "Generate suitable mne Info object for BCI competition IV dataset 1 data."
      ],
      "metadata": {
        "id": "f4a6SC5Wjadn"
      }
    },
    {
      "cell_type": "code",
      "source": [
        "info = create_BCIIV1_info()"
      ],
      "metadata": {
        "id": "6j7fZK_sjeoQ"
      },
      "execution_count": null,
      "outputs": []
    },
    {
      "cell_type": "markdown",
      "source": [
        "#Simulation of subject S20\n",
        "Parameters:\n",
        "*   Percentage of ERD: 20%,\n",
        "*   Percentage of failed trials: 0%.\n",
        "\n"
      ],
      "metadata": {
        "id": "tPKrUoHauHlJ"
      }
    },
    {
      "cell_type": "code",
      "source": [
        "reduction = 0.2"
      ],
      "metadata": {
        "id": "AxGRjGODuG24"
      },
      "execution_count": null,
      "outputs": []
    },
    {
      "cell_type": "markdown",
      "source": [
        "Set up source space and compute forward solution.\n",
        "\n",
        "Here, fsavarage head model is employed, which is a template brain based on a combination of 40 MRI scans of real brains."
      ],
      "metadata": {
        "id": "SXYn2J6ZjjLo"
      }
    },
    {
      "cell_type": "code",
      "source": [
        "subject = 'fsaverage'\n",
        "fwd, source_simulator = set_up_source_forward(subject, info)"
      ],
      "metadata": {
        "id": "bxiNat_Ijnp5"
      },
      "execution_count": null,
      "outputs": []
    },
    {
      "cell_type": "markdown",
      "source": [
        "Generate when, what and where information for the task-related component in right hand MI vs left hand MI scenario."
      ],
      "metadata": {
        "id": "Ehi6T3nxjp9t"
      }
    },
    {
      "cell_type": "code",
      "source": [
        "events_info = {0: {'label': 'MI/left', 'duration': MI_duration},\n",
        "               1: {'label': 'MI/right', 'duration': MI_duration}}\n",
        "when = generate_when(events_info, N_trials, sfreq)\n",
        "what = generate_what(MI_tasks_IDs.keys(), when, user_params, MI_duration,\n",
        "                     sfreq, N_trials, reduction)\n",
        "where = generate_where(subject)"
      ],
      "metadata": {
        "id": "etjHCWkwjyez"
      },
      "execution_count": null,
      "outputs": []
    },
    {
      "cell_type": "markdown",
      "source": [
        "Add task-related component to source simulator object."
      ],
      "metadata": {
        "id": "6agjuxBhjzwH"
      }
    },
    {
      "cell_type": "code",
      "source": [
        "for label in what.keys():\n",
        "    for task_ID, task in enumerate(MI_tasks_IDs.keys(), 1):\n",
        "        when_task = when[np.where(when[:, 2] == task_ID)[0]]\n",
        "        source_simulator.add_data(label=where[label],\n",
        "                                  waveform=what[label][task],\n",
        "                                  events=when_task)"
      ],
      "metadata": {
        "id": "Y4vMIbvRj8gu"
      },
      "execution_count": null,
      "outputs": []
    },
    {
      "cell_type": "markdown",
      "source": [
        "Simulate raw data. \n",
        "\n",
        "Project the source time series to sensor space.\n",
        "For doing so, the `mne.simulation.SourceSimulator` object is given directly to the `mne.simulation.simulate_raw` function."
      ],
      "metadata": {
        "id": "VBGvhomaj_Ym"
      }
    },
    {
      "cell_type": "code",
      "source": [
        "raw_sim_S20 = mne.simulation.simulate_raw(info, source_simulator, forward=fwd)\n",
        "raw_sim_S20.set_eeg_reference(ref_channels='average')"
      ],
      "metadata": {
        "id": "zcWKRom-kPAd"
      },
      "execution_count": null,
      "outputs": []
    },
    {
      "cell_type": "markdown",
      "source": [
        "Add non-task-related components:\n",
        "\n",
        "\n",
        "*   Aperiodic activity (background noise) to raw simulated data Here, user-specific aperiodic parameters are employed.\n",
        "*   Eog artifacts by MNE function.\n",
        "*   Eye-movement artifacts.\n",
        "\n"
      ],
      "metadata": {
        "id": "BQZznnYFlcdA"
      }
    },
    {
      "cell_type": "code",
      "source": [
        "raw_sim_S20 = add_aperiodic_activity(raw_sim,\n",
        "                                     exponent=user_params['aperiodic_params'][1],\n",
        "                                     offset=user_params['aperiodic_params'][0])\n",
        "mne.simulation.add_eog(raw_sim_S20)\n",
        "add_eye_movement(raw_sim_S20)"
      ],
      "metadata": {
        "id": "wnk9sW8AkUaq"
      },
      "execution_count": null,
      "outputs": []
    },
    {
      "cell_type": "markdown",
      "source": [
        "Epoch data"
      ],
      "metadata": {
        "id": "llkaw20NkkUH"
      }
    },
    {
      "cell_type": "code",
      "source": [
        "epochs_sim_S20 = mne.Epochs(raw_sim_S20, when, MI_tasks_IDs, tmin=0, tmax=4,\n",
        "                            baseline=None)\n",
        "epochs_sim_right_S20 = epochs_sim_S20['MI/right']\n",
        "epochs_sim_left_S20 = epochs_sim_S20['MI/left']"
      ],
      "metadata": {
        "id": "Bzdltw-YkgtV"
      },
      "execution_count": null,
      "outputs": []
    },
    {
      "cell_type": "markdown",
      "source": [
        "#Generation of subject SF30\n",
        "*   Percentage of ERD: 50% (ideal),\n",
        "*   Percentage of failed trials: 30%.\n",
        "\n",
        "\n"
      ],
      "metadata": {
        "id": "1TwM-U4XGElP"
      }
    },
    {
      "cell_type": "code",
      "source": [
        "reduction = 0.5"
      ],
      "metadata": {
        "id": "gXJwTSFxnVl3"
      },
      "execution_count": null,
      "outputs": []
    },
    {
      "cell_type": "markdown",
      "source": [
        "Set up source space and compute forward solution.\n",
        "\n",
        "Here, fsavarage head model is employed, which is a template brain based on a combination of 40 MRI scans of real brains."
      ],
      "metadata": {
        "id": "2ZZCVuprGpgC"
      }
    },
    {
      "cell_type": "code",
      "source": [
        "subject = 'fsaverage'\n",
        "fwd, source_simulator = set_up_source_forward(subject, info)"
      ],
      "metadata": {
        "id": "Q5poqj46GrOk"
      },
      "execution_count": null,
      "outputs": []
    },
    {
      "cell_type": "markdown",
      "source": [
        "Generate when, what and where information for the task-related component in right hand MI vs left hand MI scenario."
      ],
      "metadata": {
        "id": "IVXvu_bPG2Y8"
      }
    },
    {
      "cell_type": "code",
      "source": [
        "events_info = {0: {'label': 'MI/left', 'duration': MI_duration},\n",
        "               1: {'label': 'MI/right', 'duration': MI_duration}}\n",
        "when = generate_when(events_info, N_trials, sfreq)\n",
        "what = generate_what_failed(MI_tasks_IDs.keys(), when, user_params, MI_duration, sfreq,\n",
        "                            N_trials, reduction, p_failed)\n",
        "where = generate_where(subject)"
      ],
      "metadata": {
        "id": "OTqigESXG6Av"
      },
      "execution_count": null,
      "outputs": []
    },
    {
      "cell_type": "markdown",
      "source": [
        "Add task-related component to source simulator object."
      ],
      "metadata": {
        "id": "sC_yWJcaHEsj"
      }
    },
    {
      "cell_type": "code",
      "source": [
        "for label in what.keys():\n",
        "    for task_ID, task in enumerate(MI_tasks_IDs.keys(), 1):\n",
        "        when_task = when[np.where(when[:, 2] == task_ID)[0]]\n",
        "        source_simulator.add_data(label=where[label],\n",
        "                                  waveform=what[label][task],\n",
        "                                  events=when_task)"
      ],
      "metadata": {
        "id": "KukzJnzzG93S"
      },
      "execution_count": null,
      "outputs": []
    },
    {
      "cell_type": "markdown",
      "source": [
        "Simulate raw data. \n",
        "\n",
        "Project the source time series to sensor space.\n",
        "For doing so, the `mne.simulation.SourceSimulator` object is given directly to the `mne.simulation.simulate_raw` function."
      ],
      "metadata": {
        "id": "eylHQywNH1Jo"
      }
    },
    {
      "cell_type": "code",
      "source": [
        "raw_sim_SF30 = mne.simulation.simulate_raw(info, source_simulator, forward=fwd)\n",
        "raw_sim_SF30.set_eeg_reference(ref_channels='average')"
      ],
      "metadata": {
        "id": "lgHLbubSHl-W"
      },
      "execution_count": null,
      "outputs": []
    },
    {
      "cell_type": "markdown",
      "source": [
        "#Add non-task-related components:\n",
        "\n",
        "*   Aperiodic activity (background noise). Here, user-specific aperiodic parameters (exponent and offset) are employed.\n",
        "*   Eog artifacts by [mne.simulation.add_eog](https://mne.tools/stable/generated/mne.simulation.add_eog.html) function.\n",
        "*   Eye-movement artifacts."
      ],
      "metadata": {
        "id": "YmK58bunHmt6"
      }
    },
    {
      "cell_type": "code",
      "source": [
        "raw_sim_SF30 = add_aperiodic_activity(raw_sim_SF30,\n",
        "                                      exponent=user_params['aperiodic_params'][1],\n",
        "                                      offset=user_params['aperiodic_params'][0])\n",
        "mne.simulation.add_eog(raw_sim_SF30)\n",
        "add_eye_movement(raw_sim_SF30)"
      ],
      "metadata": {
        "id": "5g7iYB8RH42I"
      },
      "execution_count": null,
      "outputs": []
    },
    {
      "cell_type": "markdown",
      "source": [
        "#Epoch data."
      ],
      "metadata": {
        "id": "JalbfdgsH8j3"
      }
    },
    {
      "cell_type": "code",
      "source": [
        "epochs_sim_SF30 = mne.Epochs(raw_sim_SF30, when, MI_tasks_IDs, tmin=0, tmax=4,\n",
        "                             baseline=None)\n",
        "epochs_sim_right_SF30 = epochs_sim['MI/right']\n",
        "epochs_sim_left_SF30 = epochs_sim['MI/left']"
      ],
      "metadata": {
        "id": "BUlwESvXH97r"
      },
      "execution_count": null,
      "outputs": []
    }
  ]
}