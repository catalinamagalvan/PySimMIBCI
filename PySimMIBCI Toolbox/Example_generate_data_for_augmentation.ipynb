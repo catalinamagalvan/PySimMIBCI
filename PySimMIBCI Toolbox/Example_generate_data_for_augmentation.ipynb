{
  "nbformat": 4,
  "nbformat_minor": 0,
  "metadata": {
    "colab": {
      "provenance": [],
      "authorship_tag": "ABX9TyOpl1SXlkE+jSIG7D+lNHwg",
      "include_colab_link": true
    },
    "kernelspec": {
      "name": "python3",
      "display_name": "Python 3"
    },
    "language_info": {
      "name": "python"
    }
  },
  "cells": [
    {
      "cell_type": "markdown",
      "metadata": {
        "id": "view-in-github",
        "colab_type": "text"
      },
      "source": [
        "<a href=\"https://colab.research.google.com/github/catalinamagalvan/PySimMIBCI/blob/main/PySimMIBCI%20Toolbox/Example_generate_data_for_augmentation.ipynb\" target=\"_parent\"><img src=\"https://colab.research.google.com/assets/colab-badge.svg\" alt=\"Open In Colab\"/></a>"
      ]
    },
    {
      "cell_type": "code",
      "source": [
        "!git clone https://github.com/catalinamagalvan/PySimMIBCI.git"
      ],
      "metadata": {
        "id": "z6RfQO-wg63k",
        "colab": {
          "base_uri": "https://localhost:8080/"
        },
        "outputId": "a5b9a6d8-3289-49de-a94a-e5012e1c32db"
      },
      "execution_count": 1,
      "outputs": [
        {
          "output_type": "stream",
          "name": "stdout",
          "text": [
            "Cloning into 'PySimMIBCI'...\n",
            "remote: Enumerating objects: 139, done.\u001b[K\n",
            "remote: Counting objects: 100% (53/53), done.\u001b[K\n",
            "remote: Compressing objects: 100% (44/44), done.\u001b[K\n",
            "remote: Total 139 (delta 29), reused 8 (delta 8), pack-reused 86\u001b[K\n",
            "Receiving objects: 100% (139/139), 899.82 KiB | 8.74 MiB/s, done.\n",
            "Resolving deltas: 100% (71/71), done.\n"
          ]
        }
      ]
    },
    {
      "cell_type": "code",
      "source": [
        "!pip install mne==1.3.0\n",
        "!pip install fooof==1.0.0\n",
        "!pip install colorednoise==2.1.0"
      ],
      "metadata": {
        "colab": {
          "base_uri": "https://localhost:8080/"
        },
        "id": "lILvzvcPdpYy",
        "outputId": "4c6d7bd4-2ff9-432d-ec74-eed5384effdd"
      },
      "execution_count": 2,
      "outputs": [
        {
          "output_type": "stream",
          "name": "stdout",
          "text": [
            "Looking in indexes: https://pypi.org/simple, https://us-python.pkg.dev/colab-wheels/public/simple/\n",
            "Collecting mne==1.3.0\n",
            "  Downloading mne-1.3.0-py3-none-any.whl (7.6 MB)\n",
            "\u001b[2K     \u001b[90m━━━━━━━━━━━━━━━━━━━━━━━━━━━━━━━━━━━━━━━━\u001b[0m \u001b[32m7.6/7.6 MB\u001b[0m \u001b[31m27.2 MB/s\u001b[0m eta \u001b[36m0:00:00\u001b[0m\n",
            "\u001b[?25hRequirement already satisfied: numpy>=1.15.4 in /usr/local/lib/python3.8/dist-packages (from mne==1.3.0) (1.21.6)\n",
            "Requirement already satisfied: matplotlib in /usr/local/lib/python3.8/dist-packages (from mne==1.3.0) (3.2.2)\n",
            "Requirement already satisfied: tqdm in /usr/local/lib/python3.8/dist-packages (from mne==1.3.0) (4.64.1)\n",
            "Requirement already satisfied: packaging in /usr/local/lib/python3.8/dist-packages (from mne==1.3.0) (21.3)\n",
            "Requirement already satisfied: decorator in /usr/local/lib/python3.8/dist-packages (from mne==1.3.0) (4.4.2)\n",
            "Requirement already satisfied: scipy>=1.1.0 in /usr/local/lib/python3.8/dist-packages (from mne==1.3.0) (1.7.3)\n",
            "Requirement already satisfied: jinja2 in /usr/local/lib/python3.8/dist-packages (from mne==1.3.0) (2.11.3)\n",
            "Requirement already satisfied: pooch>=1.5 in /usr/local/lib/python3.8/dist-packages (from mne==1.3.0) (1.6.0)\n",
            "Requirement already satisfied: appdirs>=1.3.0 in /usr/local/lib/python3.8/dist-packages (from pooch>=1.5->mne==1.3.0) (1.4.4)\n",
            "Requirement already satisfied: requests>=2.19.0 in /usr/local/lib/python3.8/dist-packages (from pooch>=1.5->mne==1.3.0) (2.25.1)\n",
            "Requirement already satisfied: pyparsing!=3.0.5,>=2.0.2 in /usr/local/lib/python3.8/dist-packages (from packaging->mne==1.3.0) (3.0.9)\n",
            "Requirement already satisfied: MarkupSafe>=0.23 in /usr/local/lib/python3.8/dist-packages (from jinja2->mne==1.3.0) (2.0.1)\n",
            "Requirement already satisfied: python-dateutil>=2.1 in /usr/local/lib/python3.8/dist-packages (from matplotlib->mne==1.3.0) (2.8.2)\n",
            "Requirement already satisfied: cycler>=0.10 in /usr/local/lib/python3.8/dist-packages (from matplotlib->mne==1.3.0) (0.11.0)\n",
            "Requirement already satisfied: kiwisolver>=1.0.1 in /usr/local/lib/python3.8/dist-packages (from matplotlib->mne==1.3.0) (1.4.4)\n",
            "Requirement already satisfied: six>=1.5 in /usr/local/lib/python3.8/dist-packages (from python-dateutil>=2.1->matplotlib->mne==1.3.0) (1.15.0)\n",
            "Requirement already satisfied: certifi>=2017.4.17 in /usr/local/lib/python3.8/dist-packages (from requests>=2.19.0->pooch>=1.5->mne==1.3.0) (2022.12.7)\n",
            "Requirement already satisfied: chardet<5,>=3.0.2 in /usr/local/lib/python3.8/dist-packages (from requests>=2.19.0->pooch>=1.5->mne==1.3.0) (4.0.0)\n",
            "Requirement already satisfied: urllib3<1.27,>=1.21.1 in /usr/local/lib/python3.8/dist-packages (from requests>=2.19.0->pooch>=1.5->mne==1.3.0) (1.24.3)\n",
            "Requirement already satisfied: idna<3,>=2.5 in /usr/local/lib/python3.8/dist-packages (from requests>=2.19.0->pooch>=1.5->mne==1.3.0) (2.10)\n",
            "Installing collected packages: mne\n",
            "Successfully installed mne-1.3.0\n",
            "Looking in indexes: https://pypi.org/simple, https://us-python.pkg.dev/colab-wheels/public/simple/\n",
            "Collecting fooof==1.0.0\n",
            "  Downloading fooof-1.0.0-py3-none-any.whl (112 kB)\n",
            "\u001b[2K     \u001b[90m━━━━━━━━━━━━━━━━━━━━━━━━━━━━━━━━━━━━━━━\u001b[0m \u001b[32m112.5/112.5 KB\u001b[0m \u001b[31m2.6 MB/s\u001b[0m eta \u001b[36m0:00:00\u001b[0m\n",
            "\u001b[?25hRequirement already satisfied: numpy in /usr/local/lib/python3.8/dist-packages (from fooof==1.0.0) (1.21.6)\n",
            "Requirement already satisfied: scipy>=0.19.0 in /usr/local/lib/python3.8/dist-packages (from fooof==1.0.0) (1.7.3)\n",
            "Installing collected packages: fooof\n",
            "Successfully installed fooof-1.0.0\n",
            "Looking in indexes: https://pypi.org/simple, https://us-python.pkg.dev/colab-wheels/public/simple/\n",
            "Collecting colorednoise==2.1.0\n",
            "  Downloading colorednoise-2.1.0-py3-none-any.whl (4.5 kB)\n",
            "Requirement already satisfied: numpy>=1.17.0 in /usr/local/lib/python3.8/dist-packages (from colorednoise==2.1.0) (1.21.6)\n",
            "Installing collected packages: colorednoise\n",
            "Successfully installed colorednoise-2.1.0\n"
          ]
        }
      ]
    },
    {
      "cell_type": "code",
      "execution_count": 3,
      "metadata": {
        "id": "276Z4eCsZ0JS"
      },
      "outputs": [],
      "source": [
        "from scipy.io import loadmat\n",
        "import os\n",
        "import mne\n",
        "import numpy as np\n",
        "from mne.datasets import fetch_fsaverage\n",
        "import sys\n",
        "sys.path.insert(1, os.path.join('PySimMIBCI', 'PySimMIBCI Toolbox', 'utils'))\n",
        "from datasets import (load_and_epoch_OpenBMI_by_ftp, create_OpenBMI_info,\n",
        "                      raw_from_OpenBMI_data_by_ftp)\n",
        "from PSD_parameterization import fit_user_params, plot_PSD_FOOOF\n",
        "from simulation import (set_up_source_forward, generate_when, generate_what,\n",
        "                        generate_where)\n",
        "from noise import add_aperiodic_activity, add_eye_movement\n",
        "from plots import plot_raw_2_channels"
      ]
    },
    {
      "cell_type": "markdown",
      "source": [
        "Set parameters of data simulation"
      ],
      "metadata": {
        "id": "8G_nW-8MjNGS"
      }
    },
    {
      "cell_type": "code",
      "source": [
        "# MI IDs\n",
        "MI_tasks_IDs = {'MI/left': 1, 'MI/right': 2}\n",
        "# Sample frequency\n",
        "sfreq = 1000\n",
        "# Number of trials\n",
        "N_trials = 50\n",
        "# MI trial duration in ms\n",
        "MI_duration = 4500\n",
        "# ERD percentage\n",
        "reduction = 0.5"
      ],
      "metadata": {
        "id": "ksf_lNH6jIkW"
      },
      "execution_count": 4,
      "outputs": []
    },
    {
      "cell_type": "markdown",
      "source": [
        "Download real MI-EEG data from session 1 of subject 27 of OpenBMI dataset and create corresponding MNE Epochs object."
      ],
      "metadata": {
        "id": "lKMAJdGSi1ZV"
      }
    },
    {
      "cell_type": "code",
      "source": [
        "epochs_real, epochs_real_right, epochs_real_left = load_and_epoch_OpenBMI_by_ftp(subject=27,\n",
        "                                                                                 session=1,\n",
        "                                                                                 epoch_window=[0, 4],\n",
        "                                                                                 picks=None)"
      ],
      "metadata": {
        "id": "74hbGeWzbj5c"
      },
      "execution_count": null,
      "outputs": []
    },
    {
      "cell_type": "markdown",
      "source": [
        "Generate suitable mne Info object for OpenBMI data."
      ],
      "metadata": {
        "id": "f4a6SC5Wjadn"
      }
    },
    {
      "cell_type": "code",
      "source": [
        "info = create_OpenBMI_info()"
      ],
      "metadata": {
        "id": "6j7fZK_sjeoQ"
      },
      "execution_count": null,
      "outputs": []
    },
    {
      "cell_type": "markdown",
      "source": [
        "Fit aperiodic and periodic parameters of real data."
      ],
      "metadata": {
        "id": "RYZZ60CsjR7M"
      }
    },
    {
      "cell_type": "code",
      "source": [
        "user_params = fit_user_params(epochs_real, epochs_real_right, epochs_real_left)"
      ],
      "metadata": {
        "id": "nFQHeYtZcXfi"
      },
      "execution_count": null,
      "outputs": []
    },
    {
      "cell_type": "markdown",
      "source": [
        "#Set up source space and compute forward solution.\n",
        "Here, fsavarage head model is employed, which is a template brain based on a combination of 40 MRI scans of real brains."
      ],
      "metadata": {
        "id": "SXYn2J6ZjjLo"
      }
    },
    {
      "cell_type": "code",
      "source": [
        "subject = 'fsaverage'\n",
        "fwd, source_simulator = set_up_source_forward(subject, info)"
      ],
      "metadata": {
        "id": "bxiNat_Ijnp5"
      },
      "execution_count": null,
      "outputs": []
    },
    {
      "cell_type": "markdown",
      "source": [
        "Generate when, what and where information for the task-related component in right hand MI vs left hand MI scenario."
      ],
      "metadata": {
        "id": "Ehi6T3nxjp9t"
      }
    },
    {
      "cell_type": "code",
      "source": [
        "events_info = {0: {'label': 'MI/left', 'duration': MI_duration},\n",
        "               1: {'label': 'MI/right', 'duration': MI_duration}}\n",
        "when = generate_when(events_info, N_trials, sfreq)\n",
        "\n",
        "what = generate_what(MI_tasks_IDs.keys(), when, user_params, MI_duration,\n",
        "                     sfreq, N_trials, reduction)\n",
        "where = generate_where(subject)"
      ],
      "metadata": {
        "id": "etjHCWkwjyez"
      },
      "execution_count": null,
      "outputs": []
    },
    {
      "cell_type": "markdown",
      "source": [
        "#Add task-related component to source simulator object."
      ],
      "metadata": {
        "id": "6agjuxBhjzwH"
      }
    },
    {
      "cell_type": "code",
      "source": [
        "for label in what.keys():\n",
        "    for task_ID, task in enumerate(MI_tasks_IDs.keys(), 1):\n",
        "        when_task = when[np.where(when[:, 2] == task_ID)[0]]\n",
        "        source_simulator.add_data(label=where[label],\n",
        "                                  waveform=what[label][task],\n",
        "                                  events=when_task)"
      ],
      "metadata": {
        "id": "Y4vMIbvRj8gu"
      },
      "execution_count": null,
      "outputs": []
    },
    {
      "cell_type": "markdown",
      "source": [
        "Simulate raw data. Project the source time series to sensor space.\n",
        "The `mne.simulation.SourceSimulator` object can be given directly to the `mne.simulation.simulate_raw` function."
      ],
      "metadata": {
        "id": "VBGvhomaj_Ym"
      }
    },
    {
      "cell_type": "code",
      "source": [
        "raw_sim = mne.simulation.simulate_raw(info, source_simulator, forward=fwd)\n",
        "raw_sim.set_eeg_reference(ref_channels='average')"
      ],
      "metadata": {
        "id": "zcWKRom-kPAd"
      },
      "execution_count": null,
      "outputs": []
    },
    {
      "cell_type": "markdown",
      "source": [
        "#Add non-task-related components."
      ],
      "metadata": {
        "id": "BQZznnYFlcdA"
      }
    },
    {
      "cell_type": "markdown",
      "source": [
        "Add aperiodic activity (background noise) to raw simulated data. Here, user-specific aperiodic parameters are employed."
      ],
      "metadata": {
        "id": "zpCo_hq0kQ4Q"
      }
    },
    {
      "cell_type": "code",
      "source": [
        "raw_sim = add_aperiodic_activity(raw_sim,\n",
        "                                 exponent=user_params['aperiodic_params'][1],\n",
        "                                 offset=user_params['aperiodic_params'][0])"
      ],
      "metadata": {
        "id": "wnk9sW8AkUaq"
      },
      "execution_count": null,
      "outputs": []
    },
    {
      "cell_type": "markdown",
      "source": [
        "Add eog artifacts by MNE function."
      ],
      "metadata": {
        "id": "9FJ5EaqDkXeD"
      }
    },
    {
      "cell_type": "code",
      "source": [
        "mne.simulation.add_eog(raw_sim)"
      ],
      "metadata": {
        "id": "YbHGFb_LkZN9"
      },
      "execution_count": null,
      "outputs": []
    },
    {
      "cell_type": "markdown",
      "source": [
        "Add eye-movement artifacts"
      ],
      "metadata": {
        "id": "j8doCyuMkc-F"
      }
    },
    {
      "cell_type": "code",
      "source": [
        "add_eye_movement(raw_sim)"
      ],
      "metadata": {
        "id": "3rrZiTK6kcaf"
      },
      "execution_count": null,
      "outputs": []
    },
    {
      "cell_type": "markdown",
      "source": [
        "Epoch data"
      ],
      "metadata": {
        "id": "llkaw20NkkUH"
      }
    },
    {
      "cell_type": "code",
      "source": [
        "epochs_sim = mne.Epochs(raw_sim, when, MI_tasks_IDs, tmin=0, tmax=4,\n",
        "                        baseline=None)\n",
        "epochs_sim_right = epochs_sim['MI/right']\n",
        "epochs_sim_left = epochs_sim['MI/left']"
      ],
      "metadata": {
        "id": "Bzdltw-YkgtV"
      },
      "execution_count": null,
      "outputs": []
    },
    {
      "cell_type": "markdown",
      "source": [
        "FOOOF analysis"
      ],
      "metadata": {
        "id": "hiMwP-6NkmqD"
      }
    },
    {
      "cell_type": "code",
      "source": [
        "plot_PSD_FOOOF(epochs_sim_right, epochs_sim_left, title = 'Simulated data')\n",
        "plot_PSD_FOOOF(epochs_real_right, epochs_real_left, title = 'Real data')\n"
      ],
      "metadata": {
        "id": "Dh89wJEyko-x"
      },
      "execution_count": null,
      "outputs": []
    },
    {
      "cell_type": "markdown",
      "source": [
        "Plot some EEG channels"
      ],
      "metadata": {
        "id": "tqwcDv-Lkod7"
      }
    },
    {
      "cell_type": "code",
      "source": [
        "# Real data\n",
        "raw_real = raw_from_OpenBMI_data_by_ftp(27, 1)\n",
        "raw_real.filter(l_freq=0.05, h_freq=200, picks='eeg', method='iir',\n",
        "                phase='zero')\n",
        "plot_raw_2_channels(raw_real, start=20, duration=20)\n",
        "\n",
        "# Simulated data\n",
        "raw_sim.filter(l_freq=0.05, h_freq=200, picks='eeg', method='iir',\n",
        "               phase='zero')\n",
        "plot_raw_2_channels(raw_sim, start=20, duration=20)"
      ],
      "metadata": {
        "id": "lKQLzmf9kzmQ"
      },
      "execution_count": null,
      "outputs": []
    },
    {
      "cell_type": "code",
      "source": [],
      "metadata": {
        "id": "gXJwTSFxnVl3"
      },
      "execution_count": null,
      "outputs": []
    }
  ]
}